{
  "nbformat": 4,
  "nbformat_minor": 0,
  "metadata": {
    "colab": {
      "provenance": []
    },
    "kernelspec": {
      "name": "python3",
      "display_name": "Python 3"
    },
    "language_info": {
      "name": "python"
    },
    "widgets": {
      "application/vnd.jupyter.widget-state+json": {
        "173ca7722ce2489492a2f045153d0325": {
          "model_module": "jupyter-leaflet",
          "model_name": "LeafletMapModel",
          "model_module_version": "^0.19",
          "state": {
            "_dom_classes": [],
            "_model_module": "jupyter-leaflet",
            "_model_module_version": "^0.19",
            "_model_name": "LeafletMapModel",
            "_view_count": null,
            "_view_module": "jupyter-leaflet",
            "_view_module_version": "^0.19",
            "_view_name": "LeafletMapView",
            "bottom": 4783,
            "bounce_at_zoom_limits": true,
            "box_zoom": true,
            "center": [
              -16.762467717941604,
              45.08789062500001
            ],
            "close_popup_on_click": true,
            "controls": [
              "IPY_MODEL_ee8e9b62d1ee4683a8395099ffe25917",
              "IPY_MODEL_64fe7e0132de4d2983422b37e1f7f7ea",
              "IPY_MODEL_bc5eac83e7ef4b7580f2314400f2d804",
              "IPY_MODEL_91ede2882d174e0ebe1b2a3d6f7d34ec",
              "IPY_MODEL_f85c35d0b8214b75b1b46ad3d292365a",
              "IPY_MODEL_67a51addfc48461b8f5376c159944e4f",
              "IPY_MODEL_ebb070e3db324399a9c704982f721bf6",
              "IPY_MODEL_d3d3f69b47ed4271ae78d9a0b67c64d3"
            ],
            "crs": {
              "name": "EPSG3857",
              "custom": false
            },
            "default_style": "IPY_MODEL_c74c8543424c4b11a5652c49f1019532",
            "double_click_zoom": true,
            "dragging": true,
            "dragging_style": "IPY_MODEL_d6294b4307e64195a85858ba18a06a0f",
            "east": 73.69628906250001,
            "fullscreen": false,
            "inertia": true,
            "inertia_deceleration": 3000,
            "inertia_max_speed": 1500,
            "interpolation": "bilinear",
            "keyboard": true,
            "keyboard_pan_offset": 80,
            "keyboard_zoom_offset": 1,
            "layers": [
              "IPY_MODEL_42ac933f949245a481ce72a84a7b16e5",
              "IPY_MODEL_c6723915e4f042dbb173ffdfae87ce28"
            ],
            "layout": "IPY_MODEL_d7e6900cb6c64d7baf33af2434a00d00",
            "left": 4471,
            "max_zoom": 24,
            "min_zoom": null,
            "modisdate": "2024-10-11",
            "north": -3.8204080831949407,
            "options": [
              "bounce_at_zoom_limits",
              "box_zoom",
              "center",
              "close_popup_on_click",
              "double_click_zoom",
              "dragging",
              "fullscreen",
              "inertia",
              "inertia_deceleration",
              "inertia_max_speed",
              "interpolation",
              "keyboard",
              "keyboard_pan_offset",
              "keyboard_zoom_offset",
              "max_zoom",
              "min_zoom",
              "prefer_canvas",
              "scroll_wheel_zoom",
              "tap",
              "tap_tolerance",
              "touch_zoom",
              "world_copy_jump",
              "zoom",
              "zoom_animation_threshold",
              "zoom_delta",
              "zoom_snap"
            ],
            "panes": {},
            "prefer_canvas": false,
            "right": 5773,
            "scroll_wheel_zoom": true,
            "south": -28.8831596093235,
            "style": "IPY_MODEL_c74c8543424c4b11a5652c49f1019532",
            "tap": true,
            "tap_tolerance": 15,
            "top": 4183,
            "touch_zoom": true,
            "west": 16.479492187500004,
            "window_url": "https://cy06pa5ypqo-496ff2e9c6d22116-0-colab.googleusercontent.com/outputframe.html?vrz=colab_20241010-060117_RC00_684361355",
            "world_copy_jump": false,
            "zoom": 5,
            "zoom_animation_threshold": 4,
            "zoom_delta": 1,
            "zoom_snap": 1
          }
        },
        "ee8e9b62d1ee4683a8395099ffe25917": {
          "model_module": "jupyter-leaflet",
          "model_name": "LeafletWidgetControlModel",
          "model_module_version": "^0.19",
          "state": {
            "_model_module": "jupyter-leaflet",
            "_model_module_version": "^0.19",
            "_model_name": "LeafletWidgetControlModel",
            "_view_count": null,
            "_view_module": "jupyter-leaflet",
            "_view_module_version": "^0.19",
            "_view_name": "LeafletWidgetControlView",
            "max_height": null,
            "max_width": null,
            "min_height": null,
            "min_width": null,
            "options": [
              "position",
              "transparent_bg"
            ],
            "position": "topleft",
            "transparent_bg": false,
            "widget": "IPY_MODEL_2e65fb8f25794fddaa19bc8ff6430cad"
          }
        },
        "64fe7e0132de4d2983422b37e1f7f7ea": {
          "model_module": "jupyter-leaflet",
          "model_name": "LeafletZoomControlModel",
          "model_module_version": "^0.19",
          "state": {
            "_model_module": "jupyter-leaflet",
            "_model_module_version": "^0.19",
            "_model_name": "LeafletZoomControlModel",
            "_view_count": null,
            "_view_module": "jupyter-leaflet",
            "_view_module_version": "^0.19",
            "_view_name": "LeafletZoomControlView",
            "options": [
              "position",
              "zoom_in_text",
              "zoom_in_title",
              "zoom_out_text",
              "zoom_out_title"
            ],
            "position": "topleft",
            "zoom_in_text": "+",
            "zoom_in_title": "Zoom in",
            "zoom_out_text": "-",
            "zoom_out_title": "Zoom out"
          }
        },
        "bc5eac83e7ef4b7580f2314400f2d804": {
          "model_module": "jupyter-leaflet",
          "model_name": "LeafletFullScreenControlModel",
          "model_module_version": "^0.19",
          "state": {
            "_model_module": "jupyter-leaflet",
            "_model_module_version": "^0.19",
            "_model_name": "LeafletFullScreenControlModel",
            "_view_count": null,
            "_view_module": "jupyter-leaflet",
            "_view_module_version": "^0.19",
            "_view_name": "LeafletFullScreenControlView",
            "options": [
              "position"
            ],
            "position": "topleft"
          }
        },
        "91ede2882d174e0ebe1b2a3d6f7d34ec": {
          "model_module": "jupyter-leaflet",
          "model_name": "LeafletDrawControlModel",
          "model_module_version": "^0.19",
          "state": {
            "_model_module": "jupyter-leaflet",
            "_model_module_version": "^0.19",
            "_model_name": "LeafletDrawControlModel",
            "_view_count": null,
            "_view_module": "jupyter-leaflet",
            "_view_module_version": "^0.19",
            "_view_name": "LeafletDrawControlView",
            "circle": {},
            "circlemarker": {},
            "data": [],
            "edit": true,
            "marker": {
              "shapeOptions": {
                "color": "#3388ff"
              }
            },
            "options": [
              "position"
            ],
            "polygon": {
              "shapeOptions": {}
            },
            "polyline": {
              "shapeOptions": {}
            },
            "position": "topleft",
            "rectangle": {
              "shapeOptions": {
                "color": "#3388ff"
              }
            },
            "remove": true
          }
        },
        "f85c35d0b8214b75b1b46ad3d292365a": {
          "model_module": "jupyter-leaflet",
          "model_name": "LeafletScaleControlModel",
          "model_module_version": "^0.19",
          "state": {
            "_model_module": "jupyter-leaflet",
            "_model_module_version": "^0.19",
            "_model_name": "LeafletScaleControlModel",
            "_view_count": null,
            "_view_module": "jupyter-leaflet",
            "_view_module_version": "^0.19",
            "_view_name": "LeafletScaleControlView",
            "imperial": true,
            "max_width": 100,
            "metric": true,
            "options": [
              "imperial",
              "max_width",
              "metric",
              "position",
              "update_when_idle"
            ],
            "position": "bottomleft",
            "update_when_idle": false
          }
        },
        "67a51addfc48461b8f5376c159944e4f": {
          "model_module": "jupyter-leaflet",
          "model_name": "LeafletMeasureControlModel",
          "model_module_version": "^0.19",
          "state": {
            "_custom_units": {},
            "_model_module": "jupyter-leaflet",
            "_model_module_version": "^0.19",
            "_model_name": "LeafletMeasureControlModel",
            "_view_count": null,
            "_view_module": "jupyter-leaflet",
            "_view_module_version": "^0.19",
            "_view_name": "LeafletMeasureControlView",
            "active_color": "orange",
            "capture_z_index": 10000,
            "completed_color": "#C8F2BE",
            "options": [
              "active_color",
              "capture_z_index",
              "completed_color",
              "popup_options",
              "position",
              "primary_area_unit",
              "primary_length_unit",
              "secondary_area_unit",
              "secondary_length_unit"
            ],
            "popup_options": {
              "className": "leaflet-measure-resultpopup",
              "autoPanPadding": [
                10,
                10
              ]
            },
            "position": "bottomleft",
            "primary_area_unit": "acres",
            "primary_length_unit": "kilometers",
            "secondary_area_unit": null,
            "secondary_length_unit": null
          }
        },
        "ebb070e3db324399a9c704982f721bf6": {
          "model_module": "jupyter-leaflet",
          "model_name": "LeafletWidgetControlModel",
          "model_module_version": "^0.19",
          "state": {
            "_model_module": "jupyter-leaflet",
            "_model_module_version": "^0.19",
            "_model_name": "LeafletWidgetControlModel",
            "_view_count": null,
            "_view_module": "jupyter-leaflet",
            "_view_module_version": "^0.19",
            "_view_name": "LeafletWidgetControlView",
            "max_height": null,
            "max_width": null,
            "min_height": null,
            "min_width": null,
            "options": [
              "position",
              "transparent_bg"
            ],
            "position": "topright",
            "transparent_bg": false,
            "widget": "IPY_MODEL_1524daca73624a06b6b2e19c603c679a"
          }
        },
        "d3d3f69b47ed4271ae78d9a0b67c64d3": {
          "model_module": "jupyter-leaflet",
          "model_name": "LeafletAttributionControlModel",
          "model_module_version": "^0.19",
          "state": {
            "_model_module": "jupyter-leaflet",
            "_model_module_version": "^0.19",
            "_model_name": "LeafletAttributionControlModel",
            "_view_count": null,
            "_view_module": "jupyter-leaflet",
            "_view_module_version": "^0.19",
            "_view_name": "LeafletAttributionControlView",
            "options": [
              "position",
              "prefix"
            ],
            "position": "bottomright",
            "prefix": "ipyleaflet"
          }
        },
        "c74c8543424c4b11a5652c49f1019532": {
          "model_module": "jupyter-leaflet",
          "model_name": "LeafletMapStyleModel",
          "model_module_version": "^0.19",
          "state": {
            "_model_module": "jupyter-leaflet",
            "_model_module_version": "^0.19",
            "_model_name": "LeafletMapStyleModel",
            "_view_count": null,
            "_view_module": "@jupyter-widgets/base",
            "_view_module_version": "1.2.0",
            "_view_name": "StyleView",
            "cursor": "grab"
          }
        },
        "d6294b4307e64195a85858ba18a06a0f": {
          "model_module": "jupyter-leaflet",
          "model_name": "LeafletMapStyleModel",
          "model_module_version": "^0.19",
          "state": {
            "_model_module": "jupyter-leaflet",
            "_model_module_version": "^0.19",
            "_model_name": "LeafletMapStyleModel",
            "_view_count": null,
            "_view_module": "@jupyter-widgets/base",
            "_view_module_version": "1.2.0",
            "_view_name": "StyleView",
            "cursor": "move"
          }
        },
        "42ac933f949245a481ce72a84a7b16e5": {
          "model_module": "jupyter-leaflet",
          "model_name": "LeafletTileLayerModel",
          "model_module_version": "^0.19",
          "state": {
            "_model_module": "jupyter-leaflet",
            "_model_module_version": "^0.19",
            "_model_name": "LeafletTileLayerModel",
            "_view_count": null,
            "_view_module": "jupyter-leaflet",
            "_view_module_version": "^0.19",
            "_view_name": "LeafletTileLayerView",
            "attribution": "&copy; <a href=\"https://www.openstreetmap.org/copyright\">OpenStreetMap</a> contributors",
            "base": true,
            "bottom": true,
            "bounds": null,
            "detect_retina": false,
            "loading": false,
            "max_native_zoom": null,
            "max_zoom": 19,
            "min_native_zoom": null,
            "min_zoom": 1,
            "name": "OpenStreetMap.Mapnik",
            "no_wrap": false,
            "opacity": 1,
            "options": [
              "attribution",
              "bounds",
              "detect_retina",
              "max_native_zoom",
              "max_zoom",
              "min_native_zoom",
              "min_zoom",
              "no_wrap",
              "tile_size",
              "tms",
              "zoom_offset"
            ],
            "pane": "",
            "popup": null,
            "popup_max_height": null,
            "popup_max_width": 300,
            "popup_min_width": 50,
            "show_loading": false,
            "subitems": [],
            "tile_size": 256,
            "tms": false,
            "url": "https://tile.openstreetmap.org/{z}/{x}/{y}.png",
            "visible": true,
            "zoom_offset": 0
          }
        },
        "c6723915e4f042dbb173ffdfae87ce28": {
          "model_module": "jupyter-leaflet",
          "model_name": "LeafletTileLayerModel",
          "model_module_version": "^0.19",
          "state": {
            "_model_module": "jupyter-leaflet",
            "_model_module_version": "^0.19",
            "_model_name": "LeafletTileLayerModel",
            "_view_count": null,
            "_view_module": "jupyter-leaflet",
            "_view_module_version": "^0.19",
            "_view_name": "LeafletTileLayerView",
            "attribution": "Google Earth Engine",
            "base": false,
            "bottom": true,
            "bounds": null,
            "detect_retina": false,
            "loading": false,
            "max_native_zoom": null,
            "max_zoom": 24,
            "min_native_zoom": null,
            "min_zoom": 0,
            "name": "Zambia Admin 1 Boundaries",
            "no_wrap": false,
            "opacity": 1,
            "options": [
              "attribution",
              "bounds",
              "detect_retina",
              "max_native_zoom",
              "max_zoom",
              "min_native_zoom",
              "min_zoom",
              "no_wrap",
              "tile_size",
              "tms",
              "zoom_offset"
            ],
            "pane": "",
            "popup": null,
            "popup_max_height": null,
            "popup_max_width": 300,
            "popup_min_width": 50,
            "show_loading": false,
            "subitems": [],
            "tile_size": 256,
            "tms": false,
            "url": "https://earthengine.googleapis.com/v1/projects/ee-sg4283/maps/26b1fb3b8b56b63ab409847f6e8443e3-0c32ff517894160bfe10352936b2448a/tiles/{z}/{x}/{y}",
            "visible": true,
            "zoom_offset": 0
          }
        },
        "d7e6900cb6c64d7baf33af2434a00d00": {
          "model_module": "@jupyter-widgets/base",
          "model_name": "LayoutModel",
          "model_module_version": "1.2.0",
          "state": {
            "_model_module": "@jupyter-widgets/base",
            "_model_module_version": "1.2.0",
            "_model_name": "LayoutModel",
            "_view_count": null,
            "_view_module": "@jupyter-widgets/base",
            "_view_module_version": "1.2.0",
            "_view_name": "LayoutView",
            "align_content": null,
            "align_items": null,
            "align_self": null,
            "border": null,
            "bottom": null,
            "display": null,
            "flex": null,
            "flex_flow": null,
            "grid_area": null,
            "grid_auto_columns": null,
            "grid_auto_flow": null,
            "grid_auto_rows": null,
            "grid_column": null,
            "grid_gap": null,
            "grid_row": null,
            "grid_template_areas": null,
            "grid_template_columns": null,
            "grid_template_rows": null,
            "height": "600px",
            "justify_content": null,
            "justify_items": null,
            "left": null,
            "margin": null,
            "max_height": null,
            "max_width": null,
            "min_height": null,
            "min_width": null,
            "object_fit": null,
            "object_position": null,
            "order": null,
            "overflow": null,
            "overflow_x": null,
            "overflow_y": null,
            "padding": null,
            "right": null,
            "top": null,
            "visibility": null,
            "width": null
          }
        },
        "dc3b7ef887894aa7977534ea74c79b89": {
          "model_module": "jupyter-leaflet",
          "model_name": "LeafletMapStyleModel",
          "model_module_version": "^0.19",
          "state": {
            "_model_module": "jupyter-leaflet",
            "_model_module_version": "^0.19",
            "_model_name": "LeafletMapStyleModel",
            "_view_count": null,
            "_view_module": "@jupyter-widgets/base",
            "_view_module_version": "1.2.0",
            "_view_name": "StyleView",
            "cursor": "grab"
          }
        },
        "2e65fb8f25794fddaa19bc8ff6430cad": {
          "model_module": "@jupyter-widgets/controls",
          "model_name": "HBoxModel",
          "model_module_version": "1.5.0",
          "state": {
            "_dom_classes": [
              "geemap-colab"
            ],
            "_model_module": "@jupyter-widgets/controls",
            "_model_module_version": "1.5.0",
            "_model_name": "HBoxModel",
            "_view_count": null,
            "_view_module": "@jupyter-widgets/controls",
            "_view_module_version": "1.5.0",
            "_view_name": "HBoxView",
            "box_style": "",
            "children": [
              "IPY_MODEL_24cb63e12bab4adf81eb10df60b71d83"
            ],
            "layout": "IPY_MODEL_bcae84c02c5b4f2b80d9c4209181977f"
          }
        },
        "1524daca73624a06b6b2e19c603c679a": {
          "model_module": "@jupyter-widgets/controls",
          "model_name": "VBoxModel",
          "model_module_version": "1.5.0",
          "state": {
            "_dom_classes": [
              "geemap-colab"
            ],
            "_model_module": "@jupyter-widgets/controls",
            "_model_module_version": "1.5.0",
            "_model_name": "VBoxModel",
            "_view_count": null,
            "_view_module": "@jupyter-widgets/controls",
            "_view_module_version": "1.5.0",
            "_view_name": "VBoxView",
            "box_style": "",
            "children": [
              "IPY_MODEL_e999b9090c3545539d75f9caf4601fe5",
              "IPY_MODEL_2066b4e6da4d485590701d18db75c940"
            ],
            "layout": "IPY_MODEL_da2b4d49c2b54028bd936c0d02c728ea"
          }
        },
        "24cb63e12bab4adf81eb10df60b71d83": {
          "model_module": "@jupyter-widgets/controls",
          "model_name": "ToggleButtonModel",
          "model_module_version": "1.5.0",
          "state": {
            "_dom_classes": [],
            "_model_module": "@jupyter-widgets/controls",
            "_model_module_version": "1.5.0",
            "_model_name": "ToggleButtonModel",
            "_view_count": null,
            "_view_module": "@jupyter-widgets/controls",
            "_view_module_version": "1.5.0",
            "_view_name": "ToggleButtonView",
            "button_style": "",
            "description": "",
            "description_tooltip": null,
            "disabled": false,
            "icon": "globe",
            "layout": "IPY_MODEL_4175853e00bf4e9cb9026b52f553c8bd",
            "style": "IPY_MODEL_3c9cdc0b9d704e76a2df1615f9f0571f",
            "tooltip": "Search location/data",
            "value": false
          }
        },
        "bcae84c02c5b4f2b80d9c4209181977f": {
          "model_module": "@jupyter-widgets/base",
          "model_name": "LayoutModel",
          "model_module_version": "1.2.0",
          "state": {
            "_model_module": "@jupyter-widgets/base",
            "_model_module_version": "1.2.0",
            "_model_name": "LayoutModel",
            "_view_count": null,
            "_view_module": "@jupyter-widgets/base",
            "_view_module_version": "1.2.0",
            "_view_name": "LayoutView",
            "align_content": null,
            "align_items": null,
            "align_self": null,
            "border": null,
            "bottom": null,
            "display": null,
            "flex": null,
            "flex_flow": null,
            "grid_area": null,
            "grid_auto_columns": null,
            "grid_auto_flow": null,
            "grid_auto_rows": null,
            "grid_column": null,
            "grid_gap": null,
            "grid_row": null,
            "grid_template_areas": null,
            "grid_template_columns": null,
            "grid_template_rows": null,
            "height": null,
            "justify_content": null,
            "justify_items": null,
            "left": null,
            "margin": null,
            "max_height": null,
            "max_width": null,
            "min_height": null,
            "min_width": null,
            "object_fit": null,
            "object_position": null,
            "order": null,
            "overflow": null,
            "overflow_x": null,
            "overflow_y": null,
            "padding": null,
            "right": null,
            "top": null,
            "visibility": null,
            "width": null
          }
        },
        "e999b9090c3545539d75f9caf4601fe5": {
          "model_module": "@jupyter-widgets/controls",
          "model_name": "HBoxModel",
          "model_module_version": "1.5.0",
          "state": {
            "_dom_classes": [],
            "_model_module": "@jupyter-widgets/controls",
            "_model_module_version": "1.5.0",
            "_model_name": "HBoxModel",
            "_view_count": null,
            "_view_module": "@jupyter-widgets/controls",
            "_view_module_version": "1.5.0",
            "_view_name": "HBoxView",
            "box_style": "",
            "children": [
              "IPY_MODEL_98d2bad5485f41daa7a46b4878ebc131",
              "IPY_MODEL_a04dc9a7100544deb0104bc33557c5ea"
            ],
            "layout": "IPY_MODEL_14ef32e3271c48a5b2a6961f0b8565c6"
          }
        },
        "2066b4e6da4d485590701d18db75c940": {
          "model_module": "@jupyter-widgets/controls",
          "model_name": "VBoxModel",
          "model_module_version": "1.5.0",
          "state": {
            "_dom_classes": [],
            "_model_module": "@jupyter-widgets/controls",
            "_model_module_version": "1.5.0",
            "_model_name": "VBoxModel",
            "_view_count": null,
            "_view_module": "@jupyter-widgets/controls",
            "_view_module_version": "1.5.0",
            "_view_name": "VBoxView",
            "box_style": "",
            "children": [
              "IPY_MODEL_1ba380200d124997b084b171c0f5eab5"
            ],
            "layout": "IPY_MODEL_b1d11ae8e19740e9b86603a3f0a42b2a"
          }
        },
        "da2b4d49c2b54028bd936c0d02c728ea": {
          "model_module": "@jupyter-widgets/base",
          "model_name": "LayoutModel",
          "model_module_version": "1.2.0",
          "state": {
            "_model_module": "@jupyter-widgets/base",
            "_model_module_version": "1.2.0",
            "_model_name": "LayoutModel",
            "_view_count": null,
            "_view_module": "@jupyter-widgets/base",
            "_view_module_version": "1.2.0",
            "_view_name": "LayoutView",
            "align_content": null,
            "align_items": null,
            "align_self": null,
            "border": null,
            "bottom": null,
            "display": null,
            "flex": null,
            "flex_flow": null,
            "grid_area": null,
            "grid_auto_columns": null,
            "grid_auto_flow": null,
            "grid_auto_rows": null,
            "grid_column": null,
            "grid_gap": null,
            "grid_row": null,
            "grid_template_areas": null,
            "grid_template_columns": null,
            "grid_template_rows": null,
            "height": null,
            "justify_content": null,
            "justify_items": null,
            "left": null,
            "margin": null,
            "max_height": null,
            "max_width": null,
            "min_height": null,
            "min_width": null,
            "object_fit": null,
            "object_position": null,
            "order": null,
            "overflow": null,
            "overflow_x": null,
            "overflow_y": null,
            "padding": null,
            "right": null,
            "top": null,
            "visibility": null,
            "width": null
          }
        },
        "4175853e00bf4e9cb9026b52f553c8bd": {
          "model_module": "@jupyter-widgets/base",
          "model_name": "LayoutModel",
          "model_module_version": "1.2.0",
          "state": {
            "_model_module": "@jupyter-widgets/base",
            "_model_module_version": "1.2.0",
            "_model_name": "LayoutModel",
            "_view_count": null,
            "_view_module": "@jupyter-widgets/base",
            "_view_module_version": "1.2.0",
            "_view_name": "LayoutView",
            "align_content": null,
            "align_items": null,
            "align_self": null,
            "border": null,
            "bottom": null,
            "display": null,
            "flex": null,
            "flex_flow": null,
            "grid_area": null,
            "grid_auto_columns": null,
            "grid_auto_flow": null,
            "grid_auto_rows": null,
            "grid_column": null,
            "grid_gap": null,
            "grid_row": null,
            "grid_template_areas": null,
            "grid_template_columns": null,
            "grid_template_rows": null,
            "height": "28px",
            "justify_content": null,
            "justify_items": null,
            "left": null,
            "margin": null,
            "max_height": null,
            "max_width": null,
            "min_height": null,
            "min_width": null,
            "object_fit": null,
            "object_position": null,
            "order": null,
            "overflow": null,
            "overflow_x": null,
            "overflow_y": null,
            "padding": "0px 0px 0px 4px",
            "right": null,
            "top": null,
            "visibility": null,
            "width": "28px"
          }
        },
        "3c9cdc0b9d704e76a2df1615f9f0571f": {
          "model_module": "@jupyter-widgets/controls",
          "model_name": "DescriptionStyleModel",
          "model_module_version": "1.5.0",
          "state": {
            "_model_module": "@jupyter-widgets/controls",
            "_model_module_version": "1.5.0",
            "_model_name": "DescriptionStyleModel",
            "_view_count": null,
            "_view_module": "@jupyter-widgets/base",
            "_view_module_version": "1.2.0",
            "_view_name": "StyleView",
            "description_width": ""
          }
        },
        "98d2bad5485f41daa7a46b4878ebc131": {
          "model_module": "@jupyter-widgets/controls",
          "model_name": "ToggleButtonModel",
          "model_module_version": "1.5.0",
          "state": {
            "_dom_classes": [],
            "_model_module": "@jupyter-widgets/controls",
            "_model_module_version": "1.5.0",
            "_model_name": "ToggleButtonModel",
            "_view_count": null,
            "_view_module": "@jupyter-widgets/controls",
            "_view_module_version": "1.5.0",
            "_view_name": "ToggleButtonView",
            "button_style": "",
            "description": "",
            "description_tooltip": null,
            "disabled": false,
            "icon": "server",
            "layout": "IPY_MODEL_2e61ce80f6c44fbaa5a475b89624a868",
            "style": "IPY_MODEL_23f25a910cac49d892abe18add11ac60",
            "tooltip": "Layers",
            "value": true
          }
        },
        "a04dc9a7100544deb0104bc33557c5ea": {
          "model_module": "@jupyter-widgets/controls",
          "model_name": "ToggleButtonModel",
          "model_module_version": "1.5.0",
          "state": {
            "_dom_classes": [],
            "_model_module": "@jupyter-widgets/controls",
            "_model_module_version": "1.5.0",
            "_model_name": "ToggleButtonModel",
            "_view_count": null,
            "_view_module": "@jupyter-widgets/controls",
            "_view_module_version": "1.5.0",
            "_view_name": "ToggleButtonView",
            "button_style": "",
            "description": "",
            "description_tooltip": null,
            "disabled": false,
            "icon": "wrench",
            "layout": "IPY_MODEL_40b4d181d1da4bed9a40742207884a7a",
            "style": "IPY_MODEL_c987cdababe14726bf05405df8350d50",
            "tooltip": "Toolbar",
            "value": false
          }
        },
        "14ef32e3271c48a5b2a6961f0b8565c6": {
          "model_module": "@jupyter-widgets/base",
          "model_name": "LayoutModel",
          "model_module_version": "1.2.0",
          "state": {
            "_model_module": "@jupyter-widgets/base",
            "_model_module_version": "1.2.0",
            "_model_name": "LayoutModel",
            "_view_count": null,
            "_view_module": "@jupyter-widgets/base",
            "_view_module_version": "1.2.0",
            "_view_name": "LayoutView",
            "align_content": null,
            "align_items": "center",
            "align_self": null,
            "border": null,
            "bottom": null,
            "display": "flex",
            "flex": null,
            "flex_flow": null,
            "grid_area": null,
            "grid_auto_columns": null,
            "grid_auto_flow": null,
            "grid_auto_rows": null,
            "grid_column": null,
            "grid_gap": null,
            "grid_row": null,
            "grid_template_areas": null,
            "grid_template_columns": null,
            "grid_template_rows": null,
            "height": null,
            "justify_content": "flex-end",
            "justify_items": null,
            "left": null,
            "margin": null,
            "max_height": null,
            "max_width": null,
            "min_height": null,
            "min_width": null,
            "object_fit": null,
            "object_position": null,
            "order": null,
            "overflow": null,
            "overflow_x": null,
            "overflow_y": null,
            "padding": null,
            "right": null,
            "top": null,
            "visibility": null,
            "width": null
          }
        },
        "1ba380200d124997b084b171c0f5eab5": {
          "model_module": "@jupyter-widgets/controls",
          "model_name": "VBoxModel",
          "model_module_version": "1.5.0",
          "state": {
            "_dom_classes": [
              "geemap-colab"
            ],
            "_model_module": "@jupyter-widgets/controls",
            "_model_module_version": "1.5.0",
            "_model_name": "VBoxModel",
            "_view_count": null,
            "_view_module": "@jupyter-widgets/controls",
            "_view_module_version": "1.5.0",
            "_view_name": "VBoxView",
            "box_style": "",
            "children": [
              "IPY_MODEL_e01775e5b96d409293f1615b9c9be658",
              "IPY_MODEL_b8f15aa715c042f38c104a430b76cc69"
            ],
            "layout": "IPY_MODEL_62165721df654b959577beecdf9d1ab5"
          }
        },
        "b1d11ae8e19740e9b86603a3f0a42b2a": {
          "model_module": "@jupyter-widgets/base",
          "model_name": "LayoutModel",
          "model_module_version": "1.2.0",
          "state": {
            "_model_module": "@jupyter-widgets/base",
            "_model_module_version": "1.2.0",
            "_model_name": "LayoutModel",
            "_view_count": null,
            "_view_module": "@jupyter-widgets/base",
            "_view_module_version": "1.2.0",
            "_view_name": "LayoutView",
            "align_content": null,
            "align_items": null,
            "align_self": null,
            "border": null,
            "bottom": null,
            "display": null,
            "flex": null,
            "flex_flow": null,
            "grid_area": null,
            "grid_auto_columns": null,
            "grid_auto_flow": null,
            "grid_auto_rows": null,
            "grid_column": null,
            "grid_gap": null,
            "grid_row": null,
            "grid_template_areas": null,
            "grid_template_columns": null,
            "grid_template_rows": null,
            "height": null,
            "justify_content": null,
            "justify_items": null,
            "left": null,
            "margin": null,
            "max_height": null,
            "max_width": null,
            "min_height": null,
            "min_width": null,
            "object_fit": null,
            "object_position": null,
            "order": null,
            "overflow": null,
            "overflow_x": null,
            "overflow_y": null,
            "padding": null,
            "right": null,
            "top": null,
            "visibility": null,
            "width": null
          }
        },
        "2e61ce80f6c44fbaa5a475b89624a868": {
          "model_module": "@jupyter-widgets/base",
          "model_name": "LayoutModel",
          "model_module_version": "1.2.0",
          "state": {
            "_model_module": "@jupyter-widgets/base",
            "_model_module_version": "1.2.0",
            "_model_name": "LayoutModel",
            "_view_count": null,
            "_view_module": "@jupyter-widgets/base",
            "_view_module_version": "1.2.0",
            "_view_name": "LayoutView",
            "align_content": null,
            "align_items": null,
            "align_self": null,
            "border": null,
            "bottom": null,
            "display": null,
            "flex": null,
            "flex_flow": null,
            "grid_area": null,
            "grid_auto_columns": null,
            "grid_auto_flow": null,
            "grid_auto_rows": null,
            "grid_column": null,
            "grid_gap": null,
            "grid_row": null,
            "grid_template_areas": null,
            "grid_template_columns": null,
            "grid_template_rows": null,
            "height": "28px",
            "justify_content": null,
            "justify_items": null,
            "left": null,
            "margin": null,
            "max_height": null,
            "max_width": null,
            "min_height": null,
            "min_width": null,
            "object_fit": null,
            "object_position": null,
            "order": null,
            "overflow": null,
            "overflow_x": null,
            "overflow_y": null,
            "padding": null,
            "right": null,
            "top": null,
            "visibility": null,
            "width": "72px"
          }
        },
        "23f25a910cac49d892abe18add11ac60": {
          "model_module": "@jupyter-widgets/controls",
          "model_name": "DescriptionStyleModel",
          "model_module_version": "1.5.0",
          "state": {
            "_model_module": "@jupyter-widgets/controls",
            "_model_module_version": "1.5.0",
            "_model_name": "DescriptionStyleModel",
            "_view_count": null,
            "_view_module": "@jupyter-widgets/base",
            "_view_module_version": "1.2.0",
            "_view_name": "StyleView",
            "description_width": ""
          }
        },
        "40b4d181d1da4bed9a40742207884a7a": {
          "model_module": "@jupyter-widgets/base",
          "model_name": "LayoutModel",
          "model_module_version": "1.2.0",
          "state": {
            "_model_module": "@jupyter-widgets/base",
            "_model_module_version": "1.2.0",
            "_model_name": "LayoutModel",
            "_view_count": null,
            "_view_module": "@jupyter-widgets/base",
            "_view_module_version": "1.2.0",
            "_view_name": "LayoutView",
            "align_content": null,
            "align_items": null,
            "align_self": null,
            "border": null,
            "bottom": null,
            "display": null,
            "flex": null,
            "flex_flow": null,
            "grid_area": null,
            "grid_auto_columns": null,
            "grid_auto_flow": null,
            "grid_auto_rows": null,
            "grid_column": null,
            "grid_gap": null,
            "grid_row": null,
            "grid_template_areas": null,
            "grid_template_columns": null,
            "grid_template_rows": null,
            "height": "28px",
            "justify_content": null,
            "justify_items": null,
            "left": null,
            "margin": null,
            "max_height": null,
            "max_width": null,
            "min_height": null,
            "min_width": null,
            "object_fit": null,
            "object_position": null,
            "order": null,
            "overflow": null,
            "overflow_x": null,
            "overflow_y": null,
            "padding": "0px 0px 0px 4px",
            "right": null,
            "top": null,
            "visibility": null,
            "width": "28px"
          }
        },
        "c987cdababe14726bf05405df8350d50": {
          "model_module": "@jupyter-widgets/controls",
          "model_name": "DescriptionStyleModel",
          "model_module_version": "1.5.0",
          "state": {
            "_model_module": "@jupyter-widgets/controls",
            "_model_module_version": "1.5.0",
            "_model_name": "DescriptionStyleModel",
            "_view_count": null,
            "_view_module": "@jupyter-widgets/base",
            "_view_module_version": "1.2.0",
            "_view_name": "StyleView",
            "description_width": ""
          }
        },
        "e01775e5b96d409293f1615b9c9be658": {
          "model_module": "@jupyter-widgets/controls",
          "model_name": "HBoxModel",
          "model_module_version": "1.5.0",
          "state": {
            "_dom_classes": [],
            "_model_module": "@jupyter-widgets/controls",
            "_model_module_version": "1.5.0",
            "_model_name": "HBoxModel",
            "_view_count": null,
            "_view_module": "@jupyter-widgets/controls",
            "_view_module_version": "1.5.0",
            "_view_name": "HBoxView",
            "box_style": "",
            "children": [
              "IPY_MODEL_f74aa766f8cb461097e789494144f065",
              "IPY_MODEL_0936973498304c918ec88218a4abd51e"
            ],
            "layout": "IPY_MODEL_27f92224c5564183a3f1a797d5d918ac"
          }
        },
        "b8f15aa715c042f38c104a430b76cc69": {
          "model_module": "@jupyter-widgets/controls",
          "model_name": "VBoxModel",
          "model_module_version": "1.5.0",
          "state": {
            "_dom_classes": [],
            "_model_module": "@jupyter-widgets/controls",
            "_model_module_version": "1.5.0",
            "_model_name": "VBoxModel",
            "_view_count": null,
            "_view_module": "@jupyter-widgets/controls",
            "_view_module_version": "1.5.0",
            "_view_name": "VBoxView",
            "box_style": "",
            "children": [
              "IPY_MODEL_095209dec47f4832b28b5e573ed81d62",
              "IPY_MODEL_fbc98d0cb19547ba81e23d497a9cb600",
              "IPY_MODEL_c67923e2d863441ca1f88f2f97993956"
            ],
            "layout": "IPY_MODEL_ec456095fbe04ced93e718b146baee49"
          }
        },
        "62165721df654b959577beecdf9d1ab5": {
          "model_module": "@jupyter-widgets/base",
          "model_name": "LayoutModel",
          "model_module_version": "1.2.0",
          "state": {
            "_model_module": "@jupyter-widgets/base",
            "_model_module_version": "1.2.0",
            "_model_name": "LayoutModel",
            "_view_count": null,
            "_view_module": "@jupyter-widgets/base",
            "_view_module_version": "1.2.0",
            "_view_name": "LayoutView",
            "align_content": null,
            "align_items": null,
            "align_self": null,
            "border": null,
            "bottom": null,
            "display": null,
            "flex": null,
            "flex_flow": null,
            "grid_area": null,
            "grid_auto_columns": null,
            "grid_auto_flow": null,
            "grid_auto_rows": null,
            "grid_column": null,
            "grid_gap": null,
            "grid_row": null,
            "grid_template_areas": null,
            "grid_template_columns": null,
            "grid_template_rows": null,
            "height": null,
            "justify_content": null,
            "justify_items": null,
            "left": null,
            "margin": null,
            "max_height": null,
            "max_width": null,
            "min_height": null,
            "min_width": null,
            "object_fit": null,
            "object_position": null,
            "order": null,
            "overflow": null,
            "overflow_x": null,
            "overflow_y": null,
            "padding": null,
            "right": null,
            "top": null,
            "visibility": null,
            "width": null
          }
        },
        "f74aa766f8cb461097e789494144f065": {
          "model_module": "@jupyter-widgets/controls",
          "model_name": "ButtonModel",
          "model_module_version": "1.5.0",
          "state": {
            "_dom_classes": [],
            "_model_module": "@jupyter-widgets/controls",
            "_model_module_version": "1.5.0",
            "_model_name": "ButtonModel",
            "_view_count": null,
            "_view_module": "@jupyter-widgets/controls",
            "_view_module_version": "1.5.0",
            "_view_name": "ButtonView",
            "button_style": "primary",
            "description": "",
            "disabled": false,
            "icon": "times",
            "layout": "IPY_MODEL_26a6f5abbb3844908b17042e8b5922fd",
            "style": "IPY_MODEL_3b0a1de284a54fc49f968023e61b34be",
            "tooltip": "Close the tool"
          }
        },
        "0936973498304c918ec88218a4abd51e": {
          "model_module": "@jupyter-widgets/controls",
          "model_name": "ToggleButtonModel",
          "model_module_version": "1.5.0",
          "state": {
            "_dom_classes": [],
            "_model_module": "@jupyter-widgets/controls",
            "_model_module_version": "1.5.0",
            "_model_name": "ToggleButtonModel",
            "_view_count": null,
            "_view_module": "@jupyter-widgets/controls",
            "_view_module_version": "1.5.0",
            "_view_name": "ToggleButtonView",
            "button_style": "",
            "description": "",
            "description_tooltip": null,
            "disabled": false,
            "icon": "server",
            "layout": "IPY_MODEL_70d04da1ac484e629d63df14ecc9c4e0",
            "style": "IPY_MODEL_9968eeac1152469daf9e52fcf1766e5a",
            "tooltip": "Layer Manager",
            "value": true
          }
        },
        "27f92224c5564183a3f1a797d5d918ac": {
          "model_module": "@jupyter-widgets/base",
          "model_name": "LayoutModel",
          "model_module_version": "1.2.0",
          "state": {
            "_model_module": "@jupyter-widgets/base",
            "_model_module_version": "1.2.0",
            "_model_name": "LayoutModel",
            "_view_count": null,
            "_view_module": "@jupyter-widgets/base",
            "_view_module_version": "1.2.0",
            "_view_name": "LayoutView",
            "align_content": null,
            "align_items": null,
            "align_self": null,
            "border": null,
            "bottom": null,
            "display": "none",
            "flex": null,
            "flex_flow": null,
            "grid_area": null,
            "grid_auto_columns": null,
            "grid_auto_flow": null,
            "grid_auto_rows": null,
            "grid_column": null,
            "grid_gap": null,
            "grid_row": null,
            "grid_template_areas": null,
            "grid_template_columns": null,
            "grid_template_rows": null,
            "height": null,
            "justify_content": null,
            "justify_items": null,
            "left": null,
            "margin": null,
            "max_height": null,
            "max_width": null,
            "min_height": null,
            "min_width": null,
            "object_fit": null,
            "object_position": null,
            "order": null,
            "overflow": null,
            "overflow_x": null,
            "overflow_y": null,
            "padding": null,
            "right": null,
            "top": null,
            "visibility": null,
            "width": null
          }
        },
        "095209dec47f4832b28b5e573ed81d62": {
          "model_module": "@jupyter-widgets/controls",
          "model_name": "CheckboxModel",
          "model_module_version": "1.5.0",
          "state": {
            "_dom_classes": [],
            "_model_module": "@jupyter-widgets/controls",
            "_model_module_version": "1.5.0",
            "_model_name": "CheckboxModel",
            "_view_count": null,
            "_view_module": "@jupyter-widgets/controls",
            "_view_module_version": "1.5.0",
            "_view_name": "CheckboxView",
            "description": "All layers on/off",
            "description_tooltip": null,
            "disabled": false,
            "indent": false,
            "layout": "IPY_MODEL_171e7e65b6b640c19b4f3304434cbdf1",
            "style": "IPY_MODEL_df3d49fbb4154ab8a11c4a7ee7d32d81",
            "value": false
          }
        },
        "fbc98d0cb19547ba81e23d497a9cb600": {
          "model_module": "@jupyter-widgets/controls",
          "model_name": "HBoxModel",
          "model_module_version": "1.5.0",
          "state": {
            "_dom_classes": [],
            "_model_module": "@jupyter-widgets/controls",
            "_model_module_version": "1.5.0",
            "_model_name": "HBoxModel",
            "_view_count": null,
            "_view_module": "@jupyter-widgets/controls",
            "_view_module_version": "1.5.0",
            "_view_name": "HBoxView",
            "box_style": "",
            "children": [
              "IPY_MODEL_d7e6cb4b7d1949c1ba9533060a2d9354",
              "IPY_MODEL_a7bf09af86b44d4685a0c8ebe25431a7",
              "IPY_MODEL_409cd670edf04fdfb2857a4e997ff8e5",
              "IPY_MODEL_4a059116c50e44c58649a5a31da0550c"
            ],
            "layout": "IPY_MODEL_9cd413716b79406eaa9ecdf2e7c0e209"
          }
        },
        "c67923e2d863441ca1f88f2f97993956": {
          "model_module": "@jupyter-widgets/controls",
          "model_name": "HBoxModel",
          "model_module_version": "1.5.0",
          "state": {
            "_dom_classes": [],
            "_model_module": "@jupyter-widgets/controls",
            "_model_module_version": "1.5.0",
            "_model_name": "HBoxModel",
            "_view_count": null,
            "_view_module": "@jupyter-widgets/controls",
            "_view_module_version": "1.5.0",
            "_view_name": "HBoxView",
            "box_style": "",
            "children": [
              "IPY_MODEL_a4be868deda1469aa3451967ddff7d12",
              "IPY_MODEL_b2d311986507437486bba8dba7e97292",
              "IPY_MODEL_7488aaa7c5934e5e8399538c3d608e98",
              "IPY_MODEL_ac99a0c05a964c7297a81cb7496ec7fb"
            ],
            "layout": "IPY_MODEL_81e723400e614e69b984c85741fbf90c"
          }
        },
        "ec456095fbe04ced93e718b146baee49": {
          "model_module": "@jupyter-widgets/base",
          "model_name": "LayoutModel",
          "model_module_version": "1.2.0",
          "state": {
            "_model_module": "@jupyter-widgets/base",
            "_model_module_version": "1.2.0",
            "_model_name": "LayoutModel",
            "_view_count": null,
            "_view_module": "@jupyter-widgets/base",
            "_view_module_version": "1.2.0",
            "_view_name": "LayoutView",
            "align_content": null,
            "align_items": null,
            "align_self": null,
            "border": null,
            "bottom": null,
            "display": null,
            "flex": null,
            "flex_flow": null,
            "grid_area": null,
            "grid_auto_columns": null,
            "grid_auto_flow": null,
            "grid_auto_rows": null,
            "grid_column": null,
            "grid_gap": null,
            "grid_row": null,
            "grid_template_areas": null,
            "grid_template_columns": null,
            "grid_template_rows": null,
            "height": null,
            "justify_content": null,
            "justify_items": null,
            "left": null,
            "margin": null,
            "max_height": null,
            "max_width": null,
            "min_height": null,
            "min_width": null,
            "object_fit": null,
            "object_position": null,
            "order": null,
            "overflow": null,
            "overflow_x": null,
            "overflow_y": null,
            "padding": null,
            "right": null,
            "top": null,
            "visibility": null,
            "width": null
          }
        },
        "26a6f5abbb3844908b17042e8b5922fd": {
          "model_module": "@jupyter-widgets/base",
          "model_name": "LayoutModel",
          "model_module_version": "1.2.0",
          "state": {
            "_model_module": "@jupyter-widgets/base",
            "_model_module_version": "1.2.0",
            "_model_name": "LayoutModel",
            "_view_count": null,
            "_view_module": "@jupyter-widgets/base",
            "_view_module_version": "1.2.0",
            "_view_name": "LayoutView",
            "align_content": null,
            "align_items": null,
            "align_self": null,
            "border": null,
            "bottom": null,
            "display": null,
            "flex": null,
            "flex_flow": null,
            "grid_area": null,
            "grid_auto_columns": null,
            "grid_auto_flow": null,
            "grid_auto_rows": null,
            "grid_column": null,
            "grid_gap": null,
            "grid_row": null,
            "grid_template_areas": null,
            "grid_template_columns": null,
            "grid_template_rows": null,
            "height": "28px",
            "justify_content": null,
            "justify_items": null,
            "left": null,
            "margin": null,
            "max_height": null,
            "max_width": null,
            "min_height": null,
            "min_width": null,
            "object_fit": null,
            "object_position": null,
            "order": null,
            "overflow": null,
            "overflow_x": null,
            "overflow_y": null,
            "padding": "0px",
            "right": null,
            "top": null,
            "visibility": null,
            "width": "28px"
          }
        },
        "3b0a1de284a54fc49f968023e61b34be": {
          "model_module": "@jupyter-widgets/controls",
          "model_name": "ButtonStyleModel",
          "model_module_version": "1.5.0",
          "state": {
            "_model_module": "@jupyter-widgets/controls",
            "_model_module_version": "1.5.0",
            "_model_name": "ButtonStyleModel",
            "_view_count": null,
            "_view_module": "@jupyter-widgets/base",
            "_view_module_version": "1.2.0",
            "_view_name": "StyleView",
            "button_color": null,
            "font_weight": ""
          }
        },
        "70d04da1ac484e629d63df14ecc9c4e0": {
          "model_module": "@jupyter-widgets/base",
          "model_name": "LayoutModel",
          "model_module_version": "1.2.0",
          "state": {
            "_model_module": "@jupyter-widgets/base",
            "_model_module_version": "1.2.0",
            "_model_name": "LayoutModel",
            "_view_count": null,
            "_view_module": "@jupyter-widgets/base",
            "_view_module_version": "1.2.0",
            "_view_name": "LayoutView",
            "align_content": null,
            "align_items": null,
            "align_self": null,
            "border": null,
            "bottom": null,
            "display": null,
            "flex": null,
            "flex_flow": null,
            "grid_area": null,
            "grid_auto_columns": null,
            "grid_auto_flow": null,
            "grid_auto_rows": null,
            "grid_column": null,
            "grid_gap": null,
            "grid_row": null,
            "grid_template_areas": null,
            "grid_template_columns": null,
            "grid_template_rows": null,
            "height": "28px",
            "justify_content": null,
            "justify_items": null,
            "left": null,
            "margin": null,
            "max_height": null,
            "max_width": null,
            "min_height": null,
            "min_width": null,
            "object_fit": null,
            "object_position": null,
            "order": null,
            "overflow": null,
            "overflow_x": null,
            "overflow_y": null,
            "padding": "0px 0px 0px 4px",
            "right": null,
            "top": null,
            "visibility": null,
            "width": "28px"
          }
        },
        "9968eeac1152469daf9e52fcf1766e5a": {
          "model_module": "@jupyter-widgets/controls",
          "model_name": "DescriptionStyleModel",
          "model_module_version": "1.5.0",
          "state": {
            "_model_module": "@jupyter-widgets/controls",
            "_model_module_version": "1.5.0",
            "_model_name": "DescriptionStyleModel",
            "_view_count": null,
            "_view_module": "@jupyter-widgets/base",
            "_view_module_version": "1.2.0",
            "_view_name": "StyleView",
            "description_width": ""
          }
        },
        "171e7e65b6b640c19b4f3304434cbdf1": {
          "model_module": "@jupyter-widgets/base",
          "model_name": "LayoutModel",
          "model_module_version": "1.2.0",
          "state": {
            "_model_module": "@jupyter-widgets/base",
            "_model_module_version": "1.2.0",
            "_model_name": "LayoutModel",
            "_view_count": null,
            "_view_module": "@jupyter-widgets/base",
            "_view_module_version": "1.2.0",
            "_view_name": "LayoutView",
            "align_content": null,
            "align_items": null,
            "align_self": null,
            "border": null,
            "bottom": null,
            "display": null,
            "flex": null,
            "flex_flow": null,
            "grid_area": null,
            "grid_auto_columns": null,
            "grid_auto_flow": null,
            "grid_auto_rows": null,
            "grid_column": null,
            "grid_gap": null,
            "grid_row": null,
            "grid_template_areas": null,
            "grid_template_columns": null,
            "grid_template_rows": null,
            "height": "18px",
            "justify_content": null,
            "justify_items": null,
            "left": null,
            "margin": null,
            "max_height": null,
            "max_width": null,
            "min_height": null,
            "min_width": null,
            "object_fit": null,
            "object_position": null,
            "order": null,
            "overflow": null,
            "overflow_x": null,
            "overflow_y": null,
            "padding": "0px 4px 25px 4px",
            "right": null,
            "top": null,
            "visibility": null,
            "width": "30ex"
          }
        },
        "df3d49fbb4154ab8a11c4a7ee7d32d81": {
          "model_module": "@jupyter-widgets/controls",
          "model_name": "DescriptionStyleModel",
          "model_module_version": "1.5.0",
          "state": {
            "_model_module": "@jupyter-widgets/controls",
            "_model_module_version": "1.5.0",
            "_model_name": "DescriptionStyleModel",
            "_view_count": null,
            "_view_module": "@jupyter-widgets/base",
            "_view_module_version": "1.2.0",
            "_view_name": "StyleView",
            "description_width": ""
          }
        },
        "d7e6cb4b7d1949c1ba9533060a2d9354": {
          "model_module": "@jupyter-widgets/controls",
          "model_name": "CheckboxModel",
          "model_module_version": "1.5.0",
          "state": {
            "_dom_classes": [],
            "_model_module": "@jupyter-widgets/controls",
            "_model_module_version": "1.5.0",
            "_model_name": "CheckboxModel",
            "_view_count": null,
            "_view_module": "@jupyter-widgets/controls",
            "_view_module_version": "1.5.0",
            "_view_name": "CheckboxView",
            "description": "OpenStreetMap.Mapnik",
            "description_tooltip": null,
            "disabled": false,
            "indent": false,
            "layout": "IPY_MODEL_0949ddc7355444388994b39eedd1e517",
            "style": "IPY_MODEL_886af1c2e2704d2fb54fe12853c6ab16",
            "value": true
          }
        },
        "a7bf09af86b44d4685a0c8ebe25431a7": {
          "model_module": "@jupyter-widgets/controls",
          "model_name": "FloatSliderModel",
          "model_module_version": "1.5.0",
          "state": {
            "_dom_classes": [],
            "_model_module": "@jupyter-widgets/controls",
            "_model_module_version": "1.5.0",
            "_model_name": "FloatSliderModel",
            "_view_count": null,
            "_view_module": "@jupyter-widgets/controls",
            "_view_module_version": "1.5.0",
            "_view_name": "FloatSliderView",
            "continuous_update": true,
            "description": "",
            "description_tooltip": null,
            "disabled": false,
            "layout": "IPY_MODEL_103d32e401194c0fba1b4f3a4a5cd232",
            "max": 1,
            "min": 0,
            "orientation": "horizontal",
            "readout": false,
            "readout_format": ".2f",
            "step": 0.01,
            "style": "IPY_MODEL_ad0d7e66b9bd42f59260c4d8094a88da",
            "value": 1
          }
        },
        "409cd670edf04fdfb2857a4e997ff8e5": {
          "model_module": "@jupyter-widgets/controls",
          "model_name": "ButtonModel",
          "model_module_version": "1.5.0",
          "state": {
            "_dom_classes": [],
            "_model_module": "@jupyter-widgets/controls",
            "_model_module_version": "1.5.0",
            "_model_name": "ButtonModel",
            "_view_count": null,
            "_view_module": "@jupyter-widgets/controls",
            "_view_module_version": "1.5.0",
            "_view_name": "ButtonView",
            "button_style": "",
            "description": "",
            "disabled": false,
            "icon": "gear",
            "layout": "IPY_MODEL_574468abbaec4337bf191f451ab1c025",
            "style": "IPY_MODEL_57892ce2ac384761bd565b4a48ddc9ee",
            "tooltip": "OpenStreetMap.Mapnik"
          }
        },
        "4a059116c50e44c58649a5a31da0550c": {
          "model_module": "@jupyter-widgets/controls",
          "model_name": "ButtonModel",
          "model_module_version": "1.5.0",
          "state": {
            "_dom_classes": [],
            "_model_module": "@jupyter-widgets/controls",
            "_model_module_version": "1.5.0",
            "_model_name": "ButtonModel",
            "_view_count": null,
            "_view_module": "@jupyter-widgets/controls",
            "_view_module_version": "1.5.0",
            "_view_name": "ButtonView",
            "button_style": "",
            "description": "",
            "disabled": false,
            "icon": "times",
            "layout": "IPY_MODEL_14c9ac1163604400a7d63fd010660845",
            "style": "IPY_MODEL_e9dd209d3dcf4990a18be3f1fae69e53",
            "tooltip": "Loaded"
          }
        },
        "9cd413716b79406eaa9ecdf2e7c0e209": {
          "model_module": "@jupyter-widgets/base",
          "model_name": "LayoutModel",
          "model_module_version": "1.2.0",
          "state": {
            "_model_module": "@jupyter-widgets/base",
            "_model_module_version": "1.2.0",
            "_model_name": "LayoutModel",
            "_view_count": null,
            "_view_module": "@jupyter-widgets/base",
            "_view_module_version": "1.2.0",
            "_view_name": "LayoutView",
            "align_content": null,
            "align_items": null,
            "align_self": null,
            "border": null,
            "bottom": null,
            "display": null,
            "flex": null,
            "flex_flow": null,
            "grid_area": null,
            "grid_auto_columns": null,
            "grid_auto_flow": null,
            "grid_auto_rows": null,
            "grid_column": null,
            "grid_gap": null,
            "grid_row": null,
            "grid_template_areas": null,
            "grid_template_columns": null,
            "grid_template_rows": null,
            "height": null,
            "justify_content": null,
            "justify_items": null,
            "left": null,
            "margin": null,
            "max_height": null,
            "max_width": null,
            "min_height": null,
            "min_width": null,
            "object_fit": null,
            "object_position": null,
            "order": null,
            "overflow": null,
            "overflow_x": null,
            "overflow_y": null,
            "padding": "0px 4px 0px 4px",
            "right": null,
            "top": null,
            "visibility": null,
            "width": null
          }
        },
        "a4be868deda1469aa3451967ddff7d12": {
          "model_module": "@jupyter-widgets/controls",
          "model_name": "CheckboxModel",
          "model_module_version": "1.5.0",
          "state": {
            "_dom_classes": [],
            "_model_module": "@jupyter-widgets/controls",
            "_model_module_version": "1.5.0",
            "_model_name": "CheckboxModel",
            "_view_count": null,
            "_view_module": "@jupyter-widgets/controls",
            "_view_module_version": "1.5.0",
            "_view_name": "CheckboxView",
            "description": "Zambia Admin 1 Boundaries",
            "description_tooltip": null,
            "disabled": false,
            "indent": false,
            "layout": "IPY_MODEL_771fefb85f994ee0a40520c921c03080",
            "style": "IPY_MODEL_346cedf5099b4e648cb3df8f4071e9eb",
            "value": true
          }
        },
        "b2d311986507437486bba8dba7e97292": {
          "model_module": "@jupyter-widgets/controls",
          "model_name": "FloatSliderModel",
          "model_module_version": "1.5.0",
          "state": {
            "_dom_classes": [],
            "_model_module": "@jupyter-widgets/controls",
            "_model_module_version": "1.5.0",
            "_model_name": "FloatSliderModel",
            "_view_count": null,
            "_view_module": "@jupyter-widgets/controls",
            "_view_module_version": "1.5.0",
            "_view_name": "FloatSliderView",
            "continuous_update": true,
            "description": "",
            "description_tooltip": null,
            "disabled": false,
            "layout": "IPY_MODEL_6b4ea965a38447eea7dac0d21b71f512",
            "max": 1,
            "min": 0,
            "orientation": "horizontal",
            "readout": false,
            "readout_format": ".2f",
            "step": 0.01,
            "style": "IPY_MODEL_88c202e84e4e44a5838ac719319f6e1c",
            "value": 1
          }
        },
        "7488aaa7c5934e5e8399538c3d608e98": {
          "model_module": "@jupyter-widgets/controls",
          "model_name": "ButtonModel",
          "model_module_version": "1.5.0",
          "state": {
            "_dom_classes": [],
            "_model_module": "@jupyter-widgets/controls",
            "_model_module_version": "1.5.0",
            "_model_name": "ButtonModel",
            "_view_count": null,
            "_view_module": "@jupyter-widgets/controls",
            "_view_module_version": "1.5.0",
            "_view_name": "ButtonView",
            "button_style": "",
            "description": "",
            "disabled": false,
            "icon": "gear",
            "layout": "IPY_MODEL_9717724188aa43ae8e5644be5e8a2130",
            "style": "IPY_MODEL_15333f1d6a3c4c2f81171e7ddc4646b5",
            "tooltip": "Zambia Admin 1 Boundaries"
          }
        },
        "ac99a0c05a964c7297a81cb7496ec7fb": {
          "model_module": "@jupyter-widgets/controls",
          "model_name": "ButtonModel",
          "model_module_version": "1.5.0",
          "state": {
            "_dom_classes": [],
            "_model_module": "@jupyter-widgets/controls",
            "_model_module_version": "1.5.0",
            "_model_name": "ButtonModel",
            "_view_count": null,
            "_view_module": "@jupyter-widgets/controls",
            "_view_module_version": "1.5.0",
            "_view_name": "ButtonView",
            "button_style": "",
            "description": "",
            "disabled": false,
            "icon": "times",
            "layout": "IPY_MODEL_0c47522ac37649ffb05cc0f3812a0657",
            "style": "IPY_MODEL_e08c8f5dfb924902b48f31614843927a",
            "tooltip": "Loaded"
          }
        },
        "81e723400e614e69b984c85741fbf90c": {
          "model_module": "@jupyter-widgets/base",
          "model_name": "LayoutModel",
          "model_module_version": "1.2.0",
          "state": {
            "_model_module": "@jupyter-widgets/base",
            "_model_module_version": "1.2.0",
            "_model_name": "LayoutModel",
            "_view_count": null,
            "_view_module": "@jupyter-widgets/base",
            "_view_module_version": "1.2.0",
            "_view_name": "LayoutView",
            "align_content": null,
            "align_items": null,
            "align_self": null,
            "border": null,
            "bottom": null,
            "display": null,
            "flex": null,
            "flex_flow": null,
            "grid_area": null,
            "grid_auto_columns": null,
            "grid_auto_flow": null,
            "grid_auto_rows": null,
            "grid_column": null,
            "grid_gap": null,
            "grid_row": null,
            "grid_template_areas": null,
            "grid_template_columns": null,
            "grid_template_rows": null,
            "height": null,
            "justify_content": null,
            "justify_items": null,
            "left": null,
            "margin": null,
            "max_height": null,
            "max_width": null,
            "min_height": null,
            "min_width": null,
            "object_fit": null,
            "object_position": null,
            "order": null,
            "overflow": null,
            "overflow_x": null,
            "overflow_y": null,
            "padding": "0px 4px 0px 4px",
            "right": null,
            "top": null,
            "visibility": null,
            "width": null
          }
        },
        "0949ddc7355444388994b39eedd1e517": {
          "model_module": "@jupyter-widgets/base",
          "model_name": "LayoutModel",
          "model_module_version": "1.2.0",
          "state": {
            "_model_module": "@jupyter-widgets/base",
            "_model_module_version": "1.2.0",
            "_model_name": "LayoutModel",
            "_view_count": null,
            "_view_module": "@jupyter-widgets/base",
            "_view_module_version": "1.2.0",
            "_view_name": "LayoutView",
            "align_content": null,
            "align_items": null,
            "align_self": null,
            "border": null,
            "bottom": null,
            "display": null,
            "flex": null,
            "flex_flow": null,
            "grid_area": null,
            "grid_auto_columns": null,
            "grid_auto_flow": null,
            "grid_auto_rows": null,
            "grid_column": null,
            "grid_gap": null,
            "grid_row": null,
            "grid_template_areas": null,
            "grid_template_columns": null,
            "grid_template_rows": null,
            "height": "18px",
            "justify_content": null,
            "justify_items": null,
            "left": null,
            "margin": null,
            "max_height": null,
            "max_width": null,
            "min_height": null,
            "min_width": null,
            "object_fit": null,
            "object_position": null,
            "order": null,
            "overflow": null,
            "overflow_x": null,
            "overflow_y": null,
            "padding": null,
            "right": null,
            "top": null,
            "visibility": null,
            "width": "140px"
          }
        },
        "886af1c2e2704d2fb54fe12853c6ab16": {
          "model_module": "@jupyter-widgets/controls",
          "model_name": "DescriptionStyleModel",
          "model_module_version": "1.5.0",
          "state": {
            "_model_module": "@jupyter-widgets/controls",
            "_model_module_version": "1.5.0",
            "_model_name": "DescriptionStyleModel",
            "_view_count": null,
            "_view_module": "@jupyter-widgets/base",
            "_view_module_version": "1.2.0",
            "_view_name": "StyleView",
            "description_width": ""
          }
        },
        "103d32e401194c0fba1b4f3a4a5cd232": {
          "model_module": "@jupyter-widgets/base",
          "model_name": "LayoutModel",
          "model_module_version": "1.2.0",
          "state": {
            "_model_module": "@jupyter-widgets/base",
            "_model_module_version": "1.2.0",
            "_model_name": "LayoutModel",
            "_view_count": null,
            "_view_module": "@jupyter-widgets/base",
            "_view_module_version": "1.2.0",
            "_view_name": "LayoutView",
            "align_content": null,
            "align_items": null,
            "align_self": null,
            "border": null,
            "bottom": null,
            "display": null,
            "flex": null,
            "flex_flow": null,
            "grid_area": null,
            "grid_auto_columns": null,
            "grid_auto_flow": null,
            "grid_auto_rows": null,
            "grid_column": null,
            "grid_gap": null,
            "grid_row": null,
            "grid_template_areas": null,
            "grid_template_columns": null,
            "grid_template_rows": null,
            "height": null,
            "justify_content": null,
            "justify_items": null,
            "left": null,
            "margin": null,
            "max_height": null,
            "max_width": null,
            "min_height": null,
            "min_width": null,
            "object_fit": null,
            "object_position": null,
            "order": null,
            "overflow": null,
            "overflow_x": null,
            "overflow_y": null,
            "padding": "0px 3px 0px 0px",
            "right": null,
            "top": null,
            "visibility": null,
            "width": "70px"
          }
        },
        "ad0d7e66b9bd42f59260c4d8094a88da": {
          "model_module": "@jupyter-widgets/controls",
          "model_name": "SliderStyleModel",
          "model_module_version": "1.5.0",
          "state": {
            "_model_module": "@jupyter-widgets/controls",
            "_model_module_version": "1.5.0",
            "_model_name": "SliderStyleModel",
            "_view_count": null,
            "_view_module": "@jupyter-widgets/base",
            "_view_module_version": "1.2.0",
            "_view_name": "StyleView",
            "description_width": "",
            "handle_color": null
          }
        },
        "574468abbaec4337bf191f451ab1c025": {
          "model_module": "@jupyter-widgets/base",
          "model_name": "LayoutModel",
          "model_module_version": "1.2.0",
          "state": {
            "_model_module": "@jupyter-widgets/base",
            "_model_module_version": "1.2.0",
            "_model_name": "LayoutModel",
            "_view_count": null,
            "_view_module": "@jupyter-widgets/base",
            "_view_module_version": "1.2.0",
            "_view_name": "LayoutView",
            "align_content": null,
            "align_items": null,
            "align_self": null,
            "border": null,
            "bottom": null,
            "display": null,
            "flex": null,
            "flex_flow": null,
            "grid_area": null,
            "grid_auto_columns": null,
            "grid_auto_flow": null,
            "grid_auto_rows": null,
            "grid_column": null,
            "grid_gap": null,
            "grid_row": null,
            "grid_template_areas": null,
            "grid_template_columns": null,
            "grid_template_rows": null,
            "height": "25px",
            "justify_content": null,
            "justify_items": null,
            "left": null,
            "margin": null,
            "max_height": null,
            "max_width": null,
            "min_height": null,
            "min_width": null,
            "object_fit": null,
            "object_position": null,
            "order": null,
            "overflow": null,
            "overflow_x": null,
            "overflow_y": null,
            "padding": "0px",
            "right": null,
            "top": null,
            "visibility": null,
            "width": "25px"
          }
        },
        "57892ce2ac384761bd565b4a48ddc9ee": {
          "model_module": "@jupyter-widgets/controls",
          "model_name": "ButtonStyleModel",
          "model_module_version": "1.5.0",
          "state": {
            "_model_module": "@jupyter-widgets/controls",
            "_model_module_version": "1.5.0",
            "_model_name": "ButtonStyleModel",
            "_view_count": null,
            "_view_module": "@jupyter-widgets/base",
            "_view_module_version": "1.2.0",
            "_view_name": "StyleView",
            "button_color": null,
            "font_weight": ""
          }
        },
        "14c9ac1163604400a7d63fd010660845": {
          "model_module": "@jupyter-widgets/base",
          "model_name": "LayoutModel",
          "model_module_version": "1.2.0",
          "state": {
            "_model_module": "@jupyter-widgets/base",
            "_model_module_version": "1.2.0",
            "_model_name": "LayoutModel",
            "_view_count": null,
            "_view_module": "@jupyter-widgets/base",
            "_view_module_version": "1.2.0",
            "_view_name": "LayoutView",
            "align_content": null,
            "align_items": null,
            "align_self": null,
            "border": null,
            "bottom": null,
            "display": null,
            "flex": null,
            "flex_flow": null,
            "grid_area": null,
            "grid_auto_columns": null,
            "grid_auto_flow": null,
            "grid_auto_rows": null,
            "grid_column": null,
            "grid_gap": null,
            "grid_row": null,
            "grid_template_areas": null,
            "grid_template_columns": null,
            "grid_template_rows": null,
            "height": "25px",
            "justify_content": null,
            "justify_items": null,
            "left": null,
            "margin": null,
            "max_height": null,
            "max_width": null,
            "min_height": null,
            "min_width": null,
            "object_fit": null,
            "object_position": null,
            "order": null,
            "overflow": null,
            "overflow_x": null,
            "overflow_y": null,
            "padding": "0px",
            "right": null,
            "top": null,
            "visibility": null,
            "width": "25px"
          }
        },
        "e9dd209d3dcf4990a18be3f1fae69e53": {
          "model_module": "@jupyter-widgets/controls",
          "model_name": "ButtonStyleModel",
          "model_module_version": "1.5.0",
          "state": {
            "_model_module": "@jupyter-widgets/controls",
            "_model_module_version": "1.5.0",
            "_model_name": "ButtonStyleModel",
            "_view_count": null,
            "_view_module": "@jupyter-widgets/base",
            "_view_module_version": "1.2.0",
            "_view_name": "StyleView",
            "button_color": null,
            "font_weight": ""
          }
        },
        "771fefb85f994ee0a40520c921c03080": {
          "model_module": "@jupyter-widgets/base",
          "model_name": "LayoutModel",
          "model_module_version": "1.2.0",
          "state": {
            "_model_module": "@jupyter-widgets/base",
            "_model_module_version": "1.2.0",
            "_model_name": "LayoutModel",
            "_view_count": null,
            "_view_module": "@jupyter-widgets/base",
            "_view_module_version": "1.2.0",
            "_view_name": "LayoutView",
            "align_content": null,
            "align_items": null,
            "align_self": null,
            "border": null,
            "bottom": null,
            "display": null,
            "flex": null,
            "flex_flow": null,
            "grid_area": null,
            "grid_auto_columns": null,
            "grid_auto_flow": null,
            "grid_auto_rows": null,
            "grid_column": null,
            "grid_gap": null,
            "grid_row": null,
            "grid_template_areas": null,
            "grid_template_columns": null,
            "grid_template_rows": null,
            "height": "18px",
            "justify_content": null,
            "justify_items": null,
            "left": null,
            "margin": null,
            "max_height": null,
            "max_width": null,
            "min_height": null,
            "min_width": null,
            "object_fit": null,
            "object_position": null,
            "order": null,
            "overflow": null,
            "overflow_x": null,
            "overflow_y": null,
            "padding": null,
            "right": null,
            "top": null,
            "visibility": null,
            "width": "140px"
          }
        },
        "346cedf5099b4e648cb3df8f4071e9eb": {
          "model_module": "@jupyter-widgets/controls",
          "model_name": "DescriptionStyleModel",
          "model_module_version": "1.5.0",
          "state": {
            "_model_module": "@jupyter-widgets/controls",
            "_model_module_version": "1.5.0",
            "_model_name": "DescriptionStyleModel",
            "_view_count": null,
            "_view_module": "@jupyter-widgets/base",
            "_view_module_version": "1.2.0",
            "_view_name": "StyleView",
            "description_width": ""
          }
        },
        "6b4ea965a38447eea7dac0d21b71f512": {
          "model_module": "@jupyter-widgets/base",
          "model_name": "LayoutModel",
          "model_module_version": "1.2.0",
          "state": {
            "_model_module": "@jupyter-widgets/base",
            "_model_module_version": "1.2.0",
            "_model_name": "LayoutModel",
            "_view_count": null,
            "_view_module": "@jupyter-widgets/base",
            "_view_module_version": "1.2.0",
            "_view_name": "LayoutView",
            "align_content": null,
            "align_items": null,
            "align_self": null,
            "border": null,
            "bottom": null,
            "display": null,
            "flex": null,
            "flex_flow": null,
            "grid_area": null,
            "grid_auto_columns": null,
            "grid_auto_flow": null,
            "grid_auto_rows": null,
            "grid_column": null,
            "grid_gap": null,
            "grid_row": null,
            "grid_template_areas": null,
            "grid_template_columns": null,
            "grid_template_rows": null,
            "height": null,
            "justify_content": null,
            "justify_items": null,
            "left": null,
            "margin": null,
            "max_height": null,
            "max_width": null,
            "min_height": null,
            "min_width": null,
            "object_fit": null,
            "object_position": null,
            "order": null,
            "overflow": null,
            "overflow_x": null,
            "overflow_y": null,
            "padding": "0px 3px 0px 0px",
            "right": null,
            "top": null,
            "visibility": null,
            "width": "70px"
          }
        },
        "88c202e84e4e44a5838ac719319f6e1c": {
          "model_module": "@jupyter-widgets/controls",
          "model_name": "SliderStyleModel",
          "model_module_version": "1.5.0",
          "state": {
            "_model_module": "@jupyter-widgets/controls",
            "_model_module_version": "1.5.0",
            "_model_name": "SliderStyleModel",
            "_view_count": null,
            "_view_module": "@jupyter-widgets/base",
            "_view_module_version": "1.2.0",
            "_view_name": "StyleView",
            "description_width": "",
            "handle_color": null
          }
        },
        "9717724188aa43ae8e5644be5e8a2130": {
          "model_module": "@jupyter-widgets/base",
          "model_name": "LayoutModel",
          "model_module_version": "1.2.0",
          "state": {
            "_model_module": "@jupyter-widgets/base",
            "_model_module_version": "1.2.0",
            "_model_name": "LayoutModel",
            "_view_count": null,
            "_view_module": "@jupyter-widgets/base",
            "_view_module_version": "1.2.0",
            "_view_name": "LayoutView",
            "align_content": null,
            "align_items": null,
            "align_self": null,
            "border": null,
            "bottom": null,
            "display": null,
            "flex": null,
            "flex_flow": null,
            "grid_area": null,
            "grid_auto_columns": null,
            "grid_auto_flow": null,
            "grid_auto_rows": null,
            "grid_column": null,
            "grid_gap": null,
            "grid_row": null,
            "grid_template_areas": null,
            "grid_template_columns": null,
            "grid_template_rows": null,
            "height": "25px",
            "justify_content": null,
            "justify_items": null,
            "left": null,
            "margin": null,
            "max_height": null,
            "max_width": null,
            "min_height": null,
            "min_width": null,
            "object_fit": null,
            "object_position": null,
            "order": null,
            "overflow": null,
            "overflow_x": null,
            "overflow_y": null,
            "padding": "0px",
            "right": null,
            "top": null,
            "visibility": null,
            "width": "25px"
          }
        },
        "15333f1d6a3c4c2f81171e7ddc4646b5": {
          "model_module": "@jupyter-widgets/controls",
          "model_name": "ButtonStyleModel",
          "model_module_version": "1.5.0",
          "state": {
            "_model_module": "@jupyter-widgets/controls",
            "_model_module_version": "1.5.0",
            "_model_name": "ButtonStyleModel",
            "_view_count": null,
            "_view_module": "@jupyter-widgets/base",
            "_view_module_version": "1.2.0",
            "_view_name": "StyleView",
            "button_color": null,
            "font_weight": ""
          }
        },
        "0c47522ac37649ffb05cc0f3812a0657": {
          "model_module": "@jupyter-widgets/base",
          "model_name": "LayoutModel",
          "model_module_version": "1.2.0",
          "state": {
            "_model_module": "@jupyter-widgets/base",
            "_model_module_version": "1.2.0",
            "_model_name": "LayoutModel",
            "_view_count": null,
            "_view_module": "@jupyter-widgets/base",
            "_view_module_version": "1.2.0",
            "_view_name": "LayoutView",
            "align_content": null,
            "align_items": null,
            "align_self": null,
            "border": null,
            "bottom": null,
            "display": null,
            "flex": null,
            "flex_flow": null,
            "grid_area": null,
            "grid_auto_columns": null,
            "grid_auto_flow": null,
            "grid_auto_rows": null,
            "grid_column": null,
            "grid_gap": null,
            "grid_row": null,
            "grid_template_areas": null,
            "grid_template_columns": null,
            "grid_template_rows": null,
            "height": "25px",
            "justify_content": null,
            "justify_items": null,
            "left": null,
            "margin": null,
            "max_height": null,
            "max_width": null,
            "min_height": null,
            "min_width": null,
            "object_fit": null,
            "object_position": null,
            "order": null,
            "overflow": null,
            "overflow_x": null,
            "overflow_y": null,
            "padding": "0px",
            "right": null,
            "top": null,
            "visibility": null,
            "width": "25px"
          }
        },
        "e08c8f5dfb924902b48f31614843927a": {
          "model_module": "@jupyter-widgets/controls",
          "model_name": "ButtonStyleModel",
          "model_module_version": "1.5.0",
          "state": {
            "_model_module": "@jupyter-widgets/controls",
            "_model_module_version": "1.5.0",
            "_model_name": "ButtonStyleModel",
            "_view_count": null,
            "_view_module": "@jupyter-widgets/base",
            "_view_module_version": "1.2.0",
            "_view_name": "StyleView",
            "button_color": null,
            "font_weight": ""
          }
        }
      }
    }
  },
  "cells": [
    {
      "cell_type": "markdown",
      "source": [
        "\n",
        "#Drought Identification and Trend Analysis using Google Earth Engine (GEE) - Admin 1 Level\n",
        "\n",
        "Author - Samuel Gartenstein\n",
        "\n",
        "Date - Oct 2024\n",
        "\n",
        "Version - 1.0\n"
      ],
      "metadata": {
        "id": "oqwMCX_eaRDW"
      }
    },
    {
      "cell_type": "code",
      "execution_count": 3,
      "metadata": {
        "colab": {
          "base_uri": "https://localhost:8080/",
          "height": 146
        },
        "id": "clQG4TqGTQqa",
        "outputId": "00847fc1-980a-4bce-963f-3ba6ea442ffc"
      },
      "outputs": [
        {
          "output_type": "display_data",
          "data": {
            "text/plain": [
              "<IPython.core.display.HTML object>"
            ],
            "text/html": [
              "\n",
              "            <style>\n",
              "                .geemap-dark {\n",
              "                    --jp-widgets-color: white;\n",
              "                    --jp-widgets-label-color: white;\n",
              "                    --jp-ui-font-color1: white;\n",
              "                    --jp-layout-color2: #454545;\n",
              "                    background-color: #383838;\n",
              "                }\n",
              "\n",
              "                .geemap-dark .jupyter-button {\n",
              "                    --jp-layout-color3: #383838;\n",
              "                }\n",
              "\n",
              "                .geemap-colab {\n",
              "                    background-color: var(--colab-primary-surface-color, white);\n",
              "                }\n",
              "\n",
              "                .geemap-colab .jupyter-button {\n",
              "                    --jp-layout-color3: var(--colab-primary-surface-color, white);\n",
              "                }\n",
              "            </style>\n",
              "            "
            ]
          },
          "metadata": {}
        },
        {
          "output_type": "stream",
          "name": "stdout",
          "text": [
            "Collecting pymannkendall\n",
            "  Downloading pymannkendall-1.4.3-py3-none-any.whl.metadata (14 kB)\n",
            "Requirement already satisfied: numpy in /usr/local/lib/python3.10/dist-packages (from pymannkendall) (1.26.4)\n",
            "Requirement already satisfied: scipy in /usr/local/lib/python3.10/dist-packages (from pymannkendall) (1.13.1)\n",
            "Downloading pymannkendall-1.4.3-py3-none-any.whl (12 kB)\n",
            "Installing collected packages: pymannkendall\n",
            "Successfully installed pymannkendall-1.4.3\n"
          ]
        }
      ],
      "source": [
        "#pip install pymannkendall"
      ]
    },
    {
      "cell_type": "code",
      "source": [
        "import ee\n",
        "import geemap\n",
        "import numpy as np\n",
        "import pandas as pd\n",
        "from scipy.stats import gamma, norm, kstest, probplot\n",
        "import time\n",
        "import matplotlib.pyplot as plt\n",
        "from ipywidgets import interact, Dropdown\n",
        "import pymannkendall as mk"
      ],
      "metadata": {
        "id": "1E6Ma53KaRom",
        "colab": {
          "base_uri": "https://localhost:8080/",
          "height": 17
        },
        "outputId": "526ece38-9688-4d2f-93b9-260636205c15"
      },
      "execution_count": 4,
      "outputs": [
        {
          "output_type": "display_data",
          "data": {
            "text/plain": [
              "<IPython.core.display.HTML object>"
            ],
            "text/html": [
              "\n",
              "            <style>\n",
              "                .geemap-dark {\n",
              "                    --jp-widgets-color: white;\n",
              "                    --jp-widgets-label-color: white;\n",
              "                    --jp-ui-font-color1: white;\n",
              "                    --jp-layout-color2: #454545;\n",
              "                    background-color: #383838;\n",
              "                }\n",
              "\n",
              "                .geemap-dark .jupyter-button {\n",
              "                    --jp-layout-color3: #383838;\n",
              "                }\n",
              "\n",
              "                .geemap-colab {\n",
              "                    background-color: var(--colab-primary-surface-color, white);\n",
              "                }\n",
              "\n",
              "                .geemap-colab .jupyter-button {\n",
              "                    --jp-layout-color3: var(--colab-primary-surface-color, white);\n",
              "                }\n",
              "            </style>\n",
              "            "
            ]
          },
          "metadata": {}
        }
      ]
    },
    {
      "cell_type": "code",
      "source": [
        "# Initialize Google Earth Engine\n",
        "def initialize_ee():\n",
        "    ee.Authenticate()\n",
        "    ee.Initialize(project='ee-sg4283') #Change it to your project ID\n",
        "\n",
        "initialize_ee()"
      ],
      "metadata": {
        "colab": {
          "base_uri": "https://localhost:8080/",
          "height": 17
        },
        "id": "laRjmclaa3tW",
        "outputId": "ecc05925-3d42-41f2-bf79-c5900f152c79"
      },
      "execution_count": 5,
      "outputs": [
        {
          "output_type": "display_data",
          "data": {
            "text/plain": [
              "<IPython.core.display.HTML object>"
            ],
            "text/html": [
              "\n",
              "            <style>\n",
              "                .geemap-dark {\n",
              "                    --jp-widgets-color: white;\n",
              "                    --jp-widgets-label-color: white;\n",
              "                    --jp-ui-font-color1: white;\n",
              "                    --jp-layout-color2: #454545;\n",
              "                    background-color: #383838;\n",
              "                }\n",
              "\n",
              "                .geemap-dark .jupyter-button {\n",
              "                    --jp-layout-color3: #383838;\n",
              "                }\n",
              "\n",
              "                .geemap-colab {\n",
              "                    background-color: var(--colab-primary-surface-color, white);\n",
              "                }\n",
              "\n",
              "                .geemap-colab .jupyter-button {\n",
              "                    --jp-layout-color3: var(--colab-primary-surface-color, white);\n",
              "                }\n",
              "            </style>\n",
              "            "
            ]
          },
          "metadata": {}
        }
      ]
    },
    {
      "cell_type": "markdown",
      "source": [
        "\n",
        "### Define Analysis Boundaries\n",
        "\n",
        "We use the following crop calendar to select the regions and time periods to focus on.\n",
        "\n",
        "We define boundaries for the Western and Rift Valley, and Eastern and Northern Kenya. We use the FAO GAUL: Global Administrative Unit Layers for the analysis.\n",
        "\n",
        "The Global Administrative Unit Layers (GAUL) compiles and disseminates the best available information on administrative units for all the countries in the world, providing a contribution to the standardization of the spatial dataset representing administrative units. The GAUL always maintains global layers with a unified coding system at country, first (e.g. departments), and second administrative levels (e.g. districts). Where data is available, it provides layers on a country by country basis down to third, fourth, and lowers levels.\n",
        "\n",
        "**Note to self**: Add in clickable links\n"
      ],
      "metadata": {
        "id": "e-G8cH0SbsMW"
      }
    },
    {
      "cell_type": "code",
      "source": [
        "# Load the FAO GAUL dataset for Zambia at administrative level 1\n",
        "admin_level = 'level1'\n",
        "country_name = 'Zambia'\n",
        "roi = ee.FeatureCollection(f\"FAO/GAUL/2015/{admin_level}\")\n",
        "roi = roi.filter(ee.Filter.eq('ADM0_NAME', country_name))\n",
        "\n",
        "# Print the available counties (ADM1_NAME) for verification\n",
        "counties_list = roi.aggregate_array('ADM1_NAME').getInfo()\n",
        "print(counties_list)"
      ],
      "metadata": {
        "colab": {
          "base_uri": "https://localhost:8080/",
          "height": 35
        },
        "id": "EO9lxlXpa61B",
        "outputId": "5555c852-0aee-4822-be59-a616e794f826"
      },
      "execution_count": 6,
      "outputs": [
        {
          "output_type": "display_data",
          "data": {
            "text/plain": [
              "<IPython.core.display.HTML object>"
            ],
            "text/html": [
              "\n",
              "            <style>\n",
              "                .geemap-dark {\n",
              "                    --jp-widgets-color: white;\n",
              "                    --jp-widgets-label-color: white;\n",
              "                    --jp-ui-font-color1: white;\n",
              "                    --jp-layout-color2: #454545;\n",
              "                    background-color: #383838;\n",
              "                }\n",
              "\n",
              "                .geemap-dark .jupyter-button {\n",
              "                    --jp-layout-color3: #383838;\n",
              "                }\n",
              "\n",
              "                .geemap-colab {\n",
              "                    background-color: var(--colab-primary-surface-color, white);\n",
              "                }\n",
              "\n",
              "                .geemap-colab .jupyter-button {\n",
              "                    --jp-layout-color3: var(--colab-primary-surface-color, white);\n",
              "                }\n",
              "            </style>\n",
              "            "
            ]
          },
          "metadata": {}
        },
        {
          "output_type": "stream",
          "name": "stdout",
          "text": [
            "['Central', 'Copperbelt', 'Eastern', 'Luapula', 'Lusaka', 'North-Western', 'Northern', 'Southern', 'Western']\n"
          ]
        }
      ]
    },
    {
      "cell_type": "code",
      "source": [
        "# Creating a map centered on Zambia\n",
        "m = geemap.Map()\n",
        "m.setCenter(27.8493, -13.1339, 6)  # Longitude, Latitude, and zoom level\n",
        "\n",
        "# Add Zambia's Admin 1 boundaries as a layer\n",
        "m.addLayer(roi, {\"color\": \"green\"}, \"Zambia Admin 1 Boundaries\")\n",
        "\n",
        "# Display the map\n",
        "m\n"
      ],
      "metadata": {
        "colab": {
          "base_uri": "https://localhost:8080/",
          "height": 621,
          "referenced_widgets": [
            "173ca7722ce2489492a2f045153d0325",
            "ee8e9b62d1ee4683a8395099ffe25917",
            "64fe7e0132de4d2983422b37e1f7f7ea",
            "bc5eac83e7ef4b7580f2314400f2d804",
            "91ede2882d174e0ebe1b2a3d6f7d34ec",
            "f85c35d0b8214b75b1b46ad3d292365a",
            "67a51addfc48461b8f5376c159944e4f",
            "ebb070e3db324399a9c704982f721bf6",
            "d3d3f69b47ed4271ae78d9a0b67c64d3",
            "c74c8543424c4b11a5652c49f1019532",
            "d6294b4307e64195a85858ba18a06a0f",
            "42ac933f949245a481ce72a84a7b16e5",
            "c6723915e4f042dbb173ffdfae87ce28",
            "d7e6900cb6c64d7baf33af2434a00d00",
            "dc3b7ef887894aa7977534ea74c79b89",
            "2e65fb8f25794fddaa19bc8ff6430cad",
            "1524daca73624a06b6b2e19c603c679a",
            "24cb63e12bab4adf81eb10df60b71d83",
            "bcae84c02c5b4f2b80d9c4209181977f",
            "e999b9090c3545539d75f9caf4601fe5",
            "2066b4e6da4d485590701d18db75c940",
            "da2b4d49c2b54028bd936c0d02c728ea",
            "4175853e00bf4e9cb9026b52f553c8bd",
            "3c9cdc0b9d704e76a2df1615f9f0571f",
            "98d2bad5485f41daa7a46b4878ebc131",
            "a04dc9a7100544deb0104bc33557c5ea",
            "14ef32e3271c48a5b2a6961f0b8565c6",
            "1ba380200d124997b084b171c0f5eab5",
            "b1d11ae8e19740e9b86603a3f0a42b2a",
            "2e61ce80f6c44fbaa5a475b89624a868",
            "23f25a910cac49d892abe18add11ac60",
            "40b4d181d1da4bed9a40742207884a7a",
            "c987cdababe14726bf05405df8350d50",
            "e01775e5b96d409293f1615b9c9be658",
            "b8f15aa715c042f38c104a430b76cc69",
            "62165721df654b959577beecdf9d1ab5",
            "f74aa766f8cb461097e789494144f065",
            "0936973498304c918ec88218a4abd51e",
            "27f92224c5564183a3f1a797d5d918ac",
            "095209dec47f4832b28b5e573ed81d62",
            "fbc98d0cb19547ba81e23d497a9cb600",
            "c67923e2d863441ca1f88f2f97993956",
            "ec456095fbe04ced93e718b146baee49",
            "26a6f5abbb3844908b17042e8b5922fd",
            "3b0a1de284a54fc49f968023e61b34be",
            "70d04da1ac484e629d63df14ecc9c4e0",
            "9968eeac1152469daf9e52fcf1766e5a",
            "171e7e65b6b640c19b4f3304434cbdf1",
            "df3d49fbb4154ab8a11c4a7ee7d32d81",
            "d7e6cb4b7d1949c1ba9533060a2d9354",
            "a7bf09af86b44d4685a0c8ebe25431a7",
            "409cd670edf04fdfb2857a4e997ff8e5",
            "4a059116c50e44c58649a5a31da0550c",
            "9cd413716b79406eaa9ecdf2e7c0e209",
            "a4be868deda1469aa3451967ddff7d12",
            "b2d311986507437486bba8dba7e97292",
            "7488aaa7c5934e5e8399538c3d608e98",
            "ac99a0c05a964c7297a81cb7496ec7fb",
            "81e723400e614e69b984c85741fbf90c",
            "0949ddc7355444388994b39eedd1e517",
            "886af1c2e2704d2fb54fe12853c6ab16",
            "103d32e401194c0fba1b4f3a4a5cd232",
            "ad0d7e66b9bd42f59260c4d8094a88da",
            "574468abbaec4337bf191f451ab1c025",
            "57892ce2ac384761bd565b4a48ddc9ee",
            "14c9ac1163604400a7d63fd010660845",
            "e9dd209d3dcf4990a18be3f1fae69e53",
            "771fefb85f994ee0a40520c921c03080",
            "346cedf5099b4e648cb3df8f4071e9eb",
            "6b4ea965a38447eea7dac0d21b71f512",
            "88c202e84e4e44a5838ac719319f6e1c",
            "9717724188aa43ae8e5644be5e8a2130",
            "15333f1d6a3c4c2f81171e7ddc4646b5",
            "0c47522ac37649ffb05cc0f3812a0657",
            "e08c8f5dfb924902b48f31614843927a"
          ]
        },
        "id": "56I0ZSTObq4T",
        "outputId": "56dd98c6-16b1-41a4-ef0e-e79fe05cd953"
      },
      "execution_count": 7,
      "outputs": [
        {
          "output_type": "display_data",
          "data": {
            "text/plain": [
              "<IPython.core.display.HTML object>"
            ],
            "text/html": [
              "\n",
              "            <style>\n",
              "                .geemap-dark {\n",
              "                    --jp-widgets-color: white;\n",
              "                    --jp-widgets-label-color: white;\n",
              "                    --jp-ui-font-color1: white;\n",
              "                    --jp-layout-color2: #454545;\n",
              "                    background-color: #383838;\n",
              "                }\n",
              "\n",
              "                .geemap-dark .jupyter-button {\n",
              "                    --jp-layout-color3: #383838;\n",
              "                }\n",
              "\n",
              "                .geemap-colab {\n",
              "                    background-color: var(--colab-primary-surface-color, white);\n",
              "                }\n",
              "\n",
              "                .geemap-colab .jupyter-button {\n",
              "                    --jp-layout-color3: var(--colab-primary-surface-color, white);\n",
              "                }\n",
              "            </style>\n",
              "            "
            ]
          },
          "metadata": {}
        },
        {
          "output_type": "display_data",
          "data": {
            "text/plain": [
              "Map(center=[-13.1339, 27.8493], controls=(WidgetControl(options=['position', 'transparent_bg'], widget=SearchD…"
            ],
            "application/vnd.jupyter.widget-view+json": {
              "version_major": 2,
              "version_minor": 0,
              "model_id": "173ca7722ce2489492a2f045153d0325"
            }
          },
          "metadata": {
            "application/vnd.jupyter.widget-view+json": {
              "colab": {
                "custom_widget_manager": {
                  "url": "https://ssl.gstatic.com/colaboratory-static/widgets/colab-cdn-widget-manager/2b70e893a8ba7c0f/manager.min.js"
                }
              }
            }
          }
        }
      ]
    },
    {
      "cell_type": "markdown",
      "source": [
        "# Load CHIRPS Pentad Dataset\n"
      ],
      "metadata": {
        "id": "squieUSdoh8v"
      }
    },
    {
      "cell_type": "code",
      "source": [
        "def fetch_precipitation_data(region_name):\n",
        "    \"\"\"\n",
        "    Fetch monthly precipitation data for a given Admin Level 1 region in Zambia for 2022 to 2023,\n",
        "    and return a restructured DataFrame with the following columns:\n",
        "    - year, month, date, region, admin1_name, precipitation.\n",
        "    \"\"\"\n",
        "    chirps = ee.ImageCollection('UCSB-CHG/CHIRPS/DAILY')\n",
        "    startyear, endyear = 2000, 2023  # Update to the years 2022 to 2023\n",
        "    startdate, enddate = ee.Date.fromYMD(startyear, 1, 1), ee.Date.fromYMD(endyear, 12, 31)\n",
        "\n",
        "    # Define the region from Zambia (Admin Level 1)\n",
        "    region = ee.FeatureCollection('FAO/GAUL/2015/level1') \\\n",
        "              .filter(ee.Filter.eq('ADM0_NAME', 'Zambia')) \\\n",
        "              .filter(ee.Filter.eq('ADM1_NAME', region_name)).first()\n",
        "\n",
        "    def MonthlySum(year):\n",
        "        \"\"\"\n",
        "        Sum precipitation data for each month of a given year.\n",
        "        \"\"\"\n",
        "        def monthSum(month):\n",
        "            # Filter the CHIRPS dataset for the specific month and year\n",
        "            monthly_sum = chirps.filterDate(startdate, enddate) \\\n",
        "                                .filter(ee.Filter.calendarRange(year, year, 'year')) \\\n",
        "                                .filter(ee.Filter.calendarRange(month, month, 'month')) \\\n",
        "                                .sum() \\\n",
        "                                .reduceRegion(ee.Reducer.mean(), geometry=region.geometry(), scale=5000, maxPixels=1e8)\n",
        "\n",
        "            # Return the precipitation data and additional info\n",
        "            return ee.Feature(None, {\n",
        "                'year': year,\n",
        "                'month': month,\n",
        "                'date': ee.Date.fromYMD(year, month, 1).format(),\n",
        "                'region': 'Zambia',  # Set as Zambia\n",
        "                'admin1_name': region_name,  # Admin Level 1 region name\n",
        "                'precipitation': monthly_sum.get('precipitation')\n",
        "            })\n",
        "        return ee.List.sequence(1, 12).map(monthSum)\n",
        "\n",
        "    # List of years from 2022 to 2023\n",
        "    years = ee.List.sequence(startyear, endyear)\n",
        "\n",
        "    # Map over the years and fetch monthly precipitation\n",
        "    monthlyPrecip = years.map(MonthlySum).flatten()\n",
        "\n",
        "    # Convert the result to a FeatureCollection\n",
        "    monthlyPrecipCollection = ee.FeatureCollection(monthlyPrecip)\n",
        "\n",
        "    # Retrieve the result on the client side as a dictionary\n",
        "    properties_list = monthlyPrecipCollection.getInfo()\n",
        "\n",
        "    # Convert the result to a pandas DataFrame\n",
        "    if properties_list['features']:\n",
        "        data = [feature['properties'] for feature in properties_list['features']]\n",
        "        df = pd.DataFrame(data)\n",
        "    else:\n",
        "        df = pd.DataFrame()\n",
        "\n",
        "    # Define the restructure function inside the fetch function\n",
        "    def restructure_dataframe(df):\n",
        "        \"\"\"\n",
        "        Restructure the DataFrame to match the desired column order:\n",
        "        ['year', 'month', 'date', 'region', 'admin1_name', 'precipitation']\n",
        "        \"\"\"\n",
        "        desired_order = ['year', 'month', 'date', 'region', 'admin1_name', 'precipitation']\n",
        "        df = df[desired_order]  # Ensure all columns are present in the DataFrame\n",
        "        return df\n",
        "\n",
        "    # Call the restructure function and return the restructured DataFrame\n",
        "    return restructure_dataframe(df)\n",
        "\n"
      ],
      "metadata": {
        "colab": {
          "base_uri": "https://localhost:8080/",
          "height": 17
        },
        "id": "OtK1TfraWVKr",
        "outputId": "7ee0cc81-f972-4cfc-c855-24fbac1e6b43"
      },
      "execution_count": 82,
      "outputs": [
        {
          "output_type": "display_data",
          "data": {
            "text/plain": [
              "<IPython.core.display.HTML object>"
            ],
            "text/html": [
              "\n",
              "            <style>\n",
              "                .geemap-dark {\n",
              "                    --jp-widgets-color: white;\n",
              "                    --jp-widgets-label-color: white;\n",
              "                    --jp-ui-font-color1: white;\n",
              "                    --jp-layout-color2: #454545;\n",
              "                    background-color: #383838;\n",
              "                }\n",
              "\n",
              "                .geemap-dark .jupyter-button {\n",
              "                    --jp-layout-color3: #383838;\n",
              "                }\n",
              "\n",
              "                .geemap-colab {\n",
              "                    background-color: var(--colab-primary-surface-color, white);\n",
              "                }\n",
              "\n",
              "                .geemap-colab .jupyter-button {\n",
              "                    --jp-layout-color3: var(--colab-primary-surface-color, white);\n",
              "                }\n",
              "            </style>\n",
              "            "
            ]
          },
          "metadata": {}
        }
      ]
    },
    {
      "cell_type": "code",
      "source": [
        "# Fetch and store each region's DataFrame in individual variables\n",
        "central_precip_data = fetch_precipitation_data('Central')\n",
        "print(central_precip_data.head(12))\n",
        "print(central_precip_data.tail(12))"
      ],
      "metadata": {
        "colab": {
          "base_uri": "https://localhost:8080/",
          "height": 495
        },
        "id": "pXmi42DCCuh7",
        "outputId": "e95c431e-8083-4147-f6c8-9bd0f823c305"
      },
      "execution_count": 91,
      "outputs": [
        {
          "output_type": "display_data",
          "data": {
            "text/plain": [
              "<IPython.core.display.HTML object>"
            ],
            "text/html": [
              "\n",
              "            <style>\n",
              "                .geemap-dark {\n",
              "                    --jp-widgets-color: white;\n",
              "                    --jp-widgets-label-color: white;\n",
              "                    --jp-ui-font-color1: white;\n",
              "                    --jp-layout-color2: #454545;\n",
              "                    background-color: #383838;\n",
              "                }\n",
              "\n",
              "                .geemap-dark .jupyter-button {\n",
              "                    --jp-layout-color3: #383838;\n",
              "                }\n",
              "\n",
              "                .geemap-colab {\n",
              "                    background-color: var(--colab-primary-surface-color, white);\n",
              "                }\n",
              "\n",
              "                .geemap-colab .jupyter-button {\n",
              "                    --jp-layout-color3: var(--colab-primary-surface-color, white);\n",
              "                }\n",
              "            </style>\n",
              "            "
            ]
          },
          "metadata": {}
        },
        {
          "output_type": "stream",
          "name": "stdout",
          "text": [
            "    year  month                 date  region admin1_name  precipitation\n",
            "0   2000      1  2000-01-01T00:00:00  Zambia     Central     240.545614\n",
            "1   2000      2  2000-02-01T00:00:00  Zambia     Central     255.378366\n",
            "2   2000      3  2000-03-01T00:00:00  Zambia     Central     232.452149\n",
            "3   2000      4  2000-04-01T00:00:00  Zambia     Central       9.756547\n",
            "4   2000      5  2000-05-01T00:00:00  Zambia     Central       0.499351\n",
            "5   2000      6  2000-06-01T00:00:00  Zambia     Central       0.000000\n",
            "6   2000      7  2000-07-01T00:00:00  Zambia     Central       0.000000\n",
            "7   2000      8  2000-08-01T00:00:00  Zambia     Central       0.018995\n",
            "8   2000      9  2000-09-01T00:00:00  Zambia     Central       0.002573\n",
            "9   2000     10  2000-10-01T00:00:00  Zambia     Central      10.420805\n",
            "10  2000     11  2000-11-01T00:00:00  Zambia     Central     119.177322\n",
            "11  2000     12  2000-12-01T00:00:00  Zambia     Central     223.681583\n",
            "     year  month                 date  region admin1_name  precipitation\n",
            "276  2023      1  2023-01-01T00:00:00  Zambia     Central     346.068520\n",
            "277  2023      2  2023-02-01T00:00:00  Zambia     Central     193.512000\n",
            "278  2023      3  2023-03-01T00:00:00  Zambia     Central     128.453935\n",
            "279  2023      4  2023-04-01T00:00:00  Zambia     Central      11.557220\n",
            "280  2023      5  2023-05-01T00:00:00  Zambia     Central       0.457690\n",
            "281  2023      6  2023-06-01T00:00:00  Zambia     Central       0.000000\n",
            "282  2023      7  2023-07-01T00:00:00  Zambia     Central       0.000000\n",
            "283  2023      8  2023-08-01T00:00:00  Zambia     Central       0.002121\n",
            "284  2023      9  2023-09-01T00:00:00  Zambia     Central       0.579836\n",
            "285  2023     10  2023-10-01T00:00:00  Zambia     Central      42.357206\n",
            "286  2023     11  2023-11-01T00:00:00  Zambia     Central      36.382118\n",
            "287  2023     12  2023-12-01T00:00:00  Zambia     Central     247.408970\n"
          ]
        }
      ]
    },
    {
      "cell_type": "code",
      "source": [
        "copperbelt_precip_data = fetch_precipitation_data('Copperbelt')\n",
        "print(copperbelt_precip_data.head(12))\n",
        "print(copperbelt_precip_data.tail(12))"
      ],
      "metadata": {
        "colab": {
          "base_uri": "https://localhost:8080/",
          "height": 495
        },
        "id": "emOVHplOEUBV",
        "outputId": "afba5586-54cd-4da2-878a-d3bb30984b60"
      },
      "execution_count": 90,
      "outputs": [
        {
          "output_type": "display_data",
          "data": {
            "text/plain": [
              "<IPython.core.display.HTML object>"
            ],
            "text/html": [
              "\n",
              "            <style>\n",
              "                .geemap-dark {\n",
              "                    --jp-widgets-color: white;\n",
              "                    --jp-widgets-label-color: white;\n",
              "                    --jp-ui-font-color1: white;\n",
              "                    --jp-layout-color2: #454545;\n",
              "                    background-color: #383838;\n",
              "                }\n",
              "\n",
              "                .geemap-dark .jupyter-button {\n",
              "                    --jp-layout-color3: #383838;\n",
              "                }\n",
              "\n",
              "                .geemap-colab {\n",
              "                    background-color: var(--colab-primary-surface-color, white);\n",
              "                }\n",
              "\n",
              "                .geemap-colab .jupyter-button {\n",
              "                    --jp-layout-color3: var(--colab-primary-surface-color, white);\n",
              "                }\n",
              "            </style>\n",
              "            "
            ]
          },
          "metadata": {}
        },
        {
          "output_type": "stream",
          "name": "stdout",
          "text": [
            "    year  month                 date  region admin1_name  precipitation\n",
            "0   2000      1  2000-01-01T00:00:00  Zambia  Copperbelt     294.234393\n",
            "1   2000      2  2000-02-01T00:00:00  Zambia  Copperbelt     257.580622\n",
            "2   2000      3  2000-03-01T00:00:00  Zambia  Copperbelt     262.668946\n",
            "3   2000      4  2000-04-01T00:00:00  Zambia  Copperbelt      12.032647\n",
            "4   2000      5  2000-05-01T00:00:00  Zambia  Copperbelt       0.000000\n",
            "5   2000      6  2000-06-01T00:00:00  Zambia  Copperbelt       0.000000\n",
            "6   2000      7  2000-07-01T00:00:00  Zambia  Copperbelt       0.000000\n",
            "7   2000      8  2000-08-01T00:00:00  Zambia  Copperbelt       0.002427\n",
            "8   2000      9  2000-09-01T00:00:00  Zambia  Copperbelt       0.008651\n",
            "9   2000     10  2000-10-01T00:00:00  Zambia  Copperbelt      20.584498\n",
            "10  2000     11  2000-11-01T00:00:00  Zambia  Copperbelt     154.918555\n",
            "11  2000     12  2000-12-01T00:00:00  Zambia  Copperbelt     330.657782\n",
            "     year  month                 date  region admin1_name  precipitation\n",
            "276  2023      1  2023-01-01T00:00:00  Zambia  Copperbelt     362.271341\n",
            "277  2023      2  2023-02-01T00:00:00  Zambia  Copperbelt     161.365300\n",
            "278  2023      3  2023-03-01T00:00:00  Zambia  Copperbelt     189.274779\n",
            "279  2023      4  2023-04-01T00:00:00  Zambia  Copperbelt      22.629497\n",
            "280  2023      5  2023-05-01T00:00:00  Zambia  Copperbelt       0.043815\n",
            "281  2023      6  2023-06-01T00:00:00  Zambia  Copperbelt       0.000000\n",
            "282  2023      7  2023-07-01T00:00:00  Zambia  Copperbelt       0.000000\n",
            "283  2023      8  2023-08-01T00:00:00  Zambia  Copperbelt       0.003041\n",
            "284  2023      9  2023-09-01T00:00:00  Zambia  Copperbelt       0.759145\n",
            "285  2023     10  2023-10-01T00:00:00  Zambia  Copperbelt      73.291701\n",
            "286  2023     11  2023-11-01T00:00:00  Zambia  Copperbelt      84.345677\n",
            "287  2023     12  2023-12-01T00:00:00  Zambia  Copperbelt     307.968404\n"
          ]
        }
      ]
    },
    {
      "cell_type": "code",
      "source": [
        "luapula_precip_data = fetch_precipitation_data('Luapula')\n",
        "print(luapula_precip_data.head(12))\n",
        "print(luapula_precip_data.tail(12))"
      ],
      "metadata": {
        "colab": {
          "base_uri": "https://localhost:8080/",
          "height": 495
        },
        "id": "zrqJoHdKEUDZ",
        "outputId": "88a4d239-a4d4-438f-ba4a-d41644f5d8ee"
      },
      "execution_count": 89,
      "outputs": [
        {
          "output_type": "display_data",
          "data": {
            "text/plain": [
              "<IPython.core.display.HTML object>"
            ],
            "text/html": [
              "\n",
              "            <style>\n",
              "                .geemap-dark {\n",
              "                    --jp-widgets-color: white;\n",
              "                    --jp-widgets-label-color: white;\n",
              "                    --jp-ui-font-color1: white;\n",
              "                    --jp-layout-color2: #454545;\n",
              "                    background-color: #383838;\n",
              "                }\n",
              "\n",
              "                .geemap-dark .jupyter-button {\n",
              "                    --jp-layout-color3: #383838;\n",
              "                }\n",
              "\n",
              "                .geemap-colab {\n",
              "                    background-color: var(--colab-primary-surface-color, white);\n",
              "                }\n",
              "\n",
              "                .geemap-colab .jupyter-button {\n",
              "                    --jp-layout-color3: var(--colab-primary-surface-color, white);\n",
              "                }\n",
              "            </style>\n",
              "            "
            ]
          },
          "metadata": {}
        },
        {
          "output_type": "stream",
          "name": "stdout",
          "text": [
            "    year  month                 date  region admin1_name  precipitation\n",
            "0   2000      1  2000-01-01T00:00:00  Zambia     Luapula     247.144670\n",
            "1   2000      2  2000-02-01T00:00:00  Zambia     Luapula     214.376241\n",
            "2   2000      3  2000-03-01T00:00:00  Zambia     Luapula     274.729209\n",
            "3   2000      4  2000-04-01T00:00:00  Zambia     Luapula      52.603046\n",
            "4   2000      5  2000-05-01T00:00:00  Zambia     Luapula       1.138437\n",
            "5   2000      6  2000-06-01T00:00:00  Zambia     Luapula       0.000000\n",
            "6   2000      7  2000-07-01T00:00:00  Zambia     Luapula       0.000187\n",
            "7   2000      8  2000-08-01T00:00:00  Zambia     Luapula       0.059572\n",
            "8   2000      9  2000-09-01T00:00:00  Zambia     Luapula       1.191195\n",
            "9   2000     10  2000-10-01T00:00:00  Zambia     Luapula      28.071444\n",
            "10  2000     11  2000-11-01T00:00:00  Zambia     Luapula     171.096062\n",
            "11  2000     12  2000-12-01T00:00:00  Zambia     Luapula     282.562261\n",
            "     year  month                 date  region admin1_name  precipitation\n",
            "276  2023      1  2023-01-01T00:00:00  Zambia     Luapula     231.828037\n",
            "277  2023      2  2023-02-01T00:00:00  Zambia     Luapula     160.014890\n",
            "278  2023      3  2023-03-01T00:00:00  Zambia     Luapula     273.799768\n",
            "279  2023      4  2023-04-01T00:00:00  Zambia     Luapula     115.975909\n",
            "280  2023      5  2023-05-01T00:00:00  Zambia     Luapula       4.650195\n",
            "281  2023      6  2023-06-01T00:00:00  Zambia     Luapula       0.000000\n",
            "282  2023      7  2023-07-01T00:00:00  Zambia     Luapula       0.000000\n",
            "283  2023      8  2023-08-01T00:00:00  Zambia     Luapula       0.124184\n",
            "284  2023      9  2023-09-01T00:00:00  Zambia     Luapula       5.048326\n",
            "285  2023     10  2023-10-01T00:00:00  Zambia     Luapula      56.905922\n",
            "286  2023     11  2023-11-01T00:00:00  Zambia     Luapula     170.734341\n",
            "287  2023     12  2023-12-01T00:00:00  Zambia     Luapula     355.717093\n"
          ]
        }
      ]
    },
    {
      "cell_type": "code",
      "source": [
        "lusaka_precip_data = fetch_precipitation_data('Lusaka')\n",
        "print(lusaka_precip_data.head(12))\n",
        "print(lusaka_precip_data.tail(12))"
      ],
      "metadata": {
        "colab": {
          "base_uri": "https://localhost:8080/",
          "height": 495
        },
        "id": "LtrGInAjEUFb",
        "outputId": "d0b8533d-e4d6-4d1e-84c8-4e3dfbbee4fb"
      },
      "execution_count": 88,
      "outputs": [
        {
          "output_type": "display_data",
          "data": {
            "text/plain": [
              "<IPython.core.display.HTML object>"
            ],
            "text/html": [
              "\n",
              "            <style>\n",
              "                .geemap-dark {\n",
              "                    --jp-widgets-color: white;\n",
              "                    --jp-widgets-label-color: white;\n",
              "                    --jp-ui-font-color1: white;\n",
              "                    --jp-layout-color2: #454545;\n",
              "                    background-color: #383838;\n",
              "                }\n",
              "\n",
              "                .geemap-dark .jupyter-button {\n",
              "                    --jp-layout-color3: #383838;\n",
              "                }\n",
              "\n",
              "                .geemap-colab {\n",
              "                    background-color: var(--colab-primary-surface-color, white);\n",
              "                }\n",
              "\n",
              "                .geemap-colab .jupyter-button {\n",
              "                    --jp-layout-color3: var(--colab-primary-surface-color, white);\n",
              "                }\n",
              "            </style>\n",
              "            "
            ]
          },
          "metadata": {}
        },
        {
          "output_type": "stream",
          "name": "stdout",
          "text": [
            "    year  month                 date  region admin1_name  precipitation\n",
            "0   2000      1  2000-01-01T00:00:00  Zambia      Lusaka     211.499932\n",
            "1   2000      2  2000-02-01T00:00:00  Zambia      Lusaka     229.132062\n",
            "2   2000      3  2000-03-01T00:00:00  Zambia      Lusaka     181.584246\n",
            "3   2000      4  2000-04-01T00:00:00  Zambia      Lusaka      10.481713\n",
            "4   2000      5  2000-05-01T00:00:00  Zambia      Lusaka       0.242372\n",
            "5   2000      6  2000-06-01T00:00:00  Zambia      Lusaka       0.000000\n",
            "6   2000      7  2000-07-01T00:00:00  Zambia      Lusaka       0.000000\n",
            "7   2000      8  2000-08-01T00:00:00  Zambia      Lusaka       0.005142\n",
            "8   2000      9  2000-09-01T00:00:00  Zambia      Lusaka       0.006372\n",
            "9   2000     10  2000-10-01T00:00:00  Zambia      Lusaka      11.540079\n",
            "10  2000     11  2000-11-01T00:00:00  Zambia      Lusaka      96.909930\n",
            "11  2000     12  2000-12-01T00:00:00  Zambia      Lusaka     165.467175\n",
            "     year  month                 date  region admin1_name  precipitation\n",
            "276  2023      1  2023-01-01T00:00:00  Zambia      Lusaka     308.817957\n",
            "277  2023      2  2023-02-01T00:00:00  Zambia      Lusaka     208.284303\n",
            "278  2023      3  2023-03-01T00:00:00  Zambia      Lusaka      88.858739\n",
            "279  2023      4  2023-04-01T00:00:00  Zambia      Lusaka       5.636768\n",
            "280  2023      5  2023-05-01T00:00:00  Zambia      Lusaka       0.000000\n",
            "281  2023      6  2023-06-01T00:00:00  Zambia      Lusaka       0.000000\n",
            "282  2023      7  2023-07-01T00:00:00  Zambia      Lusaka       0.000000\n",
            "283  2023      8  2023-08-01T00:00:00  Zambia      Lusaka       0.001987\n",
            "284  2023      9  2023-09-01T00:00:00  Zambia      Lusaka       0.086064\n",
            "285  2023     10  2023-10-01T00:00:00  Zambia      Lusaka      36.702900\n",
            "286  2023     11  2023-11-01T00:00:00  Zambia      Lusaka      18.959264\n",
            "287  2023     12  2023-12-01T00:00:00  Zambia      Lusaka     201.201594\n"
          ]
        }
      ]
    },
    {
      "cell_type": "code",
      "source": [
        "north_western_precip_data = fetch_precipitation_data('North-Western')\n",
        "print(north_western_precip_data.head(12))\n",
        "print(north_western_precip_data.tail(12))"
      ],
      "metadata": {
        "colab": {
          "base_uri": "https://localhost:8080/",
          "height": 495
        },
        "id": "6HbznONHFz_d",
        "outputId": "9cfe40be-d7ff-4df5-bcc2-9e19326cdd70"
      },
      "execution_count": 92,
      "outputs": [
        {
          "output_type": "display_data",
          "data": {
            "text/plain": [
              "<IPython.core.display.HTML object>"
            ],
            "text/html": [
              "\n",
              "            <style>\n",
              "                .geemap-dark {\n",
              "                    --jp-widgets-color: white;\n",
              "                    --jp-widgets-label-color: white;\n",
              "                    --jp-ui-font-color1: white;\n",
              "                    --jp-layout-color2: #454545;\n",
              "                    background-color: #383838;\n",
              "                }\n",
              "\n",
              "                .geemap-dark .jupyter-button {\n",
              "                    --jp-layout-color3: #383838;\n",
              "                }\n",
              "\n",
              "                .geemap-colab {\n",
              "                    background-color: var(--colab-primary-surface-color, white);\n",
              "                }\n",
              "\n",
              "                .geemap-colab .jupyter-button {\n",
              "                    --jp-layout-color3: var(--colab-primary-surface-color, white);\n",
              "                }\n",
              "            </style>\n",
              "            "
            ]
          },
          "metadata": {}
        },
        {
          "output_type": "stream",
          "name": "stdout",
          "text": [
            "    year  month                 date  region    admin1_name  precipitation\n",
            "0   2000      1  2000-01-01T00:00:00  Zambia  North-Western     204.452954\n",
            "1   2000      2  2000-02-01T00:00:00  Zambia  North-Western     198.768892\n",
            "2   2000      3  2000-03-01T00:00:00  Zambia  North-Western     208.330116\n",
            "3   2000      4  2000-04-01T00:00:00  Zambia  North-Western      14.904502\n",
            "4   2000      5  2000-05-01T00:00:00  Zambia  North-Western       0.828444\n",
            "5   2000      6  2000-06-01T00:00:00  Zambia  North-Western       0.000000\n",
            "6   2000      7  2000-07-01T00:00:00  Zambia  North-Western       0.000015\n",
            "7   2000      8  2000-08-01T00:00:00  Zambia  North-Western       0.064161\n",
            "8   2000      9  2000-09-01T00:00:00  Zambia  North-Western       2.429160\n",
            "9   2000     10  2000-10-01T00:00:00  Zambia  North-Western      26.123517\n",
            "10  2000     11  2000-11-01T00:00:00  Zambia  North-Western     138.518985\n",
            "11  2000     12  2000-12-01T00:00:00  Zambia  North-Western     264.346358\n",
            "     year  month                 date  region    admin1_name  precipitation\n",
            "276  2023      1  2023-01-01T00:00:00  Zambia  North-Western     259.855861\n",
            "277  2023      2  2023-02-01T00:00:00  Zambia  North-Western     133.699629\n",
            "278  2023      3  2023-03-01T00:00:00  Zambia  North-Western     154.402746\n",
            "279  2023      4  2023-04-01T00:00:00  Zambia  North-Western      55.327499\n",
            "280  2023      5  2023-05-01T00:00:00  Zambia  North-Western       0.155236\n",
            "281  2023      6  2023-06-01T00:00:00  Zambia  North-Western       0.000000\n",
            "282  2023      7  2023-07-01T00:00:00  Zambia  North-Western       0.000192\n",
            "283  2023      8  2023-08-01T00:00:00  Zambia  North-Western       0.035175\n",
            "284  2023      9  2023-09-01T00:00:00  Zambia  North-Western       7.514540\n",
            "285  2023     10  2023-10-01T00:00:00  Zambia  North-Western      78.018657\n",
            "286  2023     11  2023-11-01T00:00:00  Zambia  North-Western      98.545107\n",
            "287  2023     12  2023-12-01T00:00:00  Zambia  North-Western     181.342819\n"
          ]
        }
      ]
    },
    {
      "cell_type": "code",
      "source": [
        "northern_precip_data = fetch_precipitation_data('Northern')\n",
        "print(northern_precip_data.head(12))\n",
        "print(northern_precip_data.tail(12))"
      ],
      "metadata": {
        "colab": {
          "base_uri": "https://localhost:8080/",
          "height": 495
        },
        "id": "kmTh-J4jF0Fg",
        "outputId": "f2424fca-d6b1-43d9-c08a-8154b11eb259"
      },
      "execution_count": 93,
      "outputs": [
        {
          "output_type": "display_data",
          "data": {
            "text/plain": [
              "<IPython.core.display.HTML object>"
            ],
            "text/html": [
              "\n",
              "            <style>\n",
              "                .geemap-dark {\n",
              "                    --jp-widgets-color: white;\n",
              "                    --jp-widgets-label-color: white;\n",
              "                    --jp-ui-font-color1: white;\n",
              "                    --jp-layout-color2: #454545;\n",
              "                    background-color: #383838;\n",
              "                }\n",
              "\n",
              "                .geemap-dark .jupyter-button {\n",
              "                    --jp-layout-color3: #383838;\n",
              "                }\n",
              "\n",
              "                .geemap-colab {\n",
              "                    background-color: var(--colab-primary-surface-color, white);\n",
              "                }\n",
              "\n",
              "                .geemap-colab .jupyter-button {\n",
              "                    --jp-layout-color3: var(--colab-primary-surface-color, white);\n",
              "                }\n",
              "            </style>\n",
              "            "
            ]
          },
          "metadata": {}
        },
        {
          "output_type": "stream",
          "name": "stdout",
          "text": [
            "    year  month                 date  region admin1_name  precipitation\n",
            "0   2000      1  2000-01-01T00:00:00  Zambia    Northern     216.502658\n",
            "1   2000      2  2000-02-01T00:00:00  Zambia    Northern     189.500853\n",
            "2   2000      3  2000-03-01T00:00:00  Zambia    Northern     244.090929\n",
            "3   2000      4  2000-04-01T00:00:00  Zambia    Northern      48.428260\n",
            "4   2000      5  2000-05-01T00:00:00  Zambia    Northern       3.017012\n",
            "5   2000      6  2000-06-01T00:00:00  Zambia    Northern       0.002201\n",
            "6   2000      7  2000-07-01T00:00:00  Zambia    Northern       0.000000\n",
            "7   2000      8  2000-08-01T00:00:00  Zambia    Northern       0.040952\n",
            "8   2000      9  2000-09-01T00:00:00  Zambia    Northern       0.720938\n",
            "9   2000     10  2000-10-01T00:00:00  Zambia    Northern      24.687120\n",
            "10  2000     11  2000-11-01T00:00:00  Zambia    Northern     185.598424\n",
            "11  2000     12  2000-12-01T00:00:00  Zambia    Northern     267.622248\n",
            "     year  month                 date  region admin1_name  precipitation\n",
            "276  2023      1  2023-01-01T00:00:00  Zambia    Northern     248.789725\n",
            "277  2023      2  2023-02-01T00:00:00  Zambia    Northern     158.231136\n",
            "278  2023      3  2023-03-01T00:00:00  Zambia    Northern     263.540445\n",
            "279  2023      4  2023-04-01T00:00:00  Zambia    Northern     115.235361\n",
            "280  2023      5  2023-05-01T00:00:00  Zambia    Northern       6.988198\n",
            "281  2023      6  2023-06-01T00:00:00  Zambia    Northern       0.001423\n",
            "282  2023      7  2023-07-01T00:00:00  Zambia    Northern       0.000000\n",
            "283  2023      8  2023-08-01T00:00:00  Zambia    Northern       0.017451\n",
            "284  2023      9  2023-09-01T00:00:00  Zambia    Northern       2.960785\n",
            "285  2023     10  2023-10-01T00:00:00  Zambia    Northern      29.159934\n",
            "286  2023     11  2023-11-01T00:00:00  Zambia    Northern     124.284658\n",
            "287  2023     12  2023-12-01T00:00:00  Zambia    Northern     313.104857\n"
          ]
        }
      ]
    },
    {
      "cell_type": "code",
      "source": [
        "southern_precip_data = fetch_precipitation_data('Southern')\n",
        "print(southern_precip_data.head(12))\n",
        "print(southern_precip_data.tail(12))"
      ],
      "metadata": {
        "colab": {
          "base_uri": "https://localhost:8080/",
          "height": 495
        },
        "id": "Ne_Z-gFRF0H0",
        "outputId": "e6a7b06a-6654-4339-98e0-ab775d2ce21c"
      },
      "execution_count": 94,
      "outputs": [
        {
          "output_type": "display_data",
          "data": {
            "text/plain": [
              "<IPython.core.display.HTML object>"
            ],
            "text/html": [
              "\n",
              "            <style>\n",
              "                .geemap-dark {\n",
              "                    --jp-widgets-color: white;\n",
              "                    --jp-widgets-label-color: white;\n",
              "                    --jp-ui-font-color1: white;\n",
              "                    --jp-layout-color2: #454545;\n",
              "                    background-color: #383838;\n",
              "                }\n",
              "\n",
              "                .geemap-dark .jupyter-button {\n",
              "                    --jp-layout-color3: #383838;\n",
              "                }\n",
              "\n",
              "                .geemap-colab {\n",
              "                    background-color: var(--colab-primary-surface-color, white);\n",
              "                }\n",
              "\n",
              "                .geemap-colab .jupyter-button {\n",
              "                    --jp-layout-color3: var(--colab-primary-surface-color, white);\n",
              "                }\n",
              "            </style>\n",
              "            "
            ]
          },
          "metadata": {}
        },
        {
          "output_type": "stream",
          "name": "stdout",
          "text": [
            "    year  month                 date  region admin1_name  precipitation\n",
            "0   2000      1  2000-01-01T00:00:00  Zambia    Southern     170.279557\n",
            "1   2000      2  2000-02-01T00:00:00  Zambia    Southern     241.883281\n",
            "2   2000      3  2000-03-01T00:00:00  Zambia    Southern     146.443345\n",
            "3   2000      4  2000-04-01T00:00:00  Zambia    Southern      16.081653\n",
            "4   2000      5  2000-05-01T00:00:00  Zambia    Southern       0.563035\n",
            "5   2000      6  2000-06-01T00:00:00  Zambia    Southern       0.000000\n",
            "6   2000      7  2000-07-01T00:00:00  Zambia    Southern       0.000000\n",
            "7   2000      8  2000-08-01T00:00:00  Zambia    Southern       0.000064\n",
            "8   2000      9  2000-09-01T00:00:00  Zambia    Southern       0.032624\n",
            "9   2000     10  2000-10-01T00:00:00  Zambia    Southern      12.328881\n",
            "10  2000     11  2000-11-01T00:00:00  Zambia    Southern      76.468064\n",
            "11  2000     12  2000-12-01T00:00:00  Zambia    Southern     176.965030\n",
            "     year  month                 date  region admin1_name  precipitation\n",
            "276  2023      1  2023-01-01T00:00:00  Zambia    Southern     215.690107\n",
            "277  2023      2  2023-02-01T00:00:00  Zambia    Southern     125.978179\n",
            "278  2023      3  2023-03-01T00:00:00  Zambia    Southern      42.428419\n",
            "279  2023      4  2023-04-01T00:00:00  Zambia    Southern       5.141778\n",
            "280  2023      5  2023-05-01T00:00:00  Zambia    Southern       0.000000\n",
            "281  2023      6  2023-06-01T00:00:00  Zambia    Southern       0.000000\n",
            "282  2023      7  2023-07-01T00:00:00  Zambia    Southern       0.000031\n",
            "283  2023      8  2023-08-01T00:00:00  Zambia    Southern       0.000000\n",
            "284  2023      9  2023-09-01T00:00:00  Zambia    Southern       0.406869\n",
            "285  2023     10  2023-10-01T00:00:00  Zambia    Southern      20.154957\n",
            "286  2023     11  2023-11-01T00:00:00  Zambia    Southern      15.238370\n",
            "287  2023     12  2023-12-01T00:00:00  Zambia    Southern     172.548523\n"
          ]
        }
      ]
    },
    {
      "cell_type": "code",
      "source": [
        "western_precip_data = fetch_precipitation_data('Western')\n",
        "print(western_precip_data.head(12))\n",
        "print(western_precip_data.tail(12))"
      ],
      "metadata": {
        "colab": {
          "base_uri": "https://localhost:8080/",
          "height": 495
        },
        "id": "ygTvYvryF0J4",
        "outputId": "f8b73f3e-93b9-44d9-e2a2-55dcf10098e7"
      },
      "execution_count": 95,
      "outputs": [
        {
          "output_type": "display_data",
          "data": {
            "text/plain": [
              "<IPython.core.display.HTML object>"
            ],
            "text/html": [
              "\n",
              "            <style>\n",
              "                .geemap-dark {\n",
              "                    --jp-widgets-color: white;\n",
              "                    --jp-widgets-label-color: white;\n",
              "                    --jp-ui-font-color1: white;\n",
              "                    --jp-layout-color2: #454545;\n",
              "                    background-color: #383838;\n",
              "                }\n",
              "\n",
              "                .geemap-dark .jupyter-button {\n",
              "                    --jp-layout-color3: #383838;\n",
              "                }\n",
              "\n",
              "                .geemap-colab {\n",
              "                    background-color: var(--colab-primary-surface-color, white);\n",
              "                }\n",
              "\n",
              "                .geemap-colab .jupyter-button {\n",
              "                    --jp-layout-color3: var(--colab-primary-surface-color, white);\n",
              "                }\n",
              "            </style>\n",
              "            "
            ]
          },
          "metadata": {}
        },
        {
          "output_type": "stream",
          "name": "stdout",
          "text": [
            "    year  month                 date  region admin1_name  precipitation\n",
            "0   2000      1  2000-01-01T00:00:00  Zambia     Western     186.183187\n",
            "1   2000      2  2000-02-01T00:00:00  Zambia     Western     196.745684\n",
            "2   2000      3  2000-03-01T00:00:00  Zambia     Western     218.633670\n",
            "3   2000      4  2000-04-01T00:00:00  Zambia     Western      17.662483\n",
            "4   2000      5  2000-05-01T00:00:00  Zambia     Western       0.080743\n",
            "5   2000      6  2000-06-01T00:00:00  Zambia     Western       0.000000\n",
            "6   2000      7  2000-07-01T00:00:00  Zambia     Western       0.000002\n",
            "7   2000      8  2000-08-01T00:00:00  Zambia     Western       0.000036\n",
            "8   2000      9  2000-09-01T00:00:00  Zambia     Western       0.267395\n",
            "9   2000     10  2000-10-01T00:00:00  Zambia     Western      14.932101\n",
            "10  2000     11  2000-11-01T00:00:00  Zambia     Western      67.325252\n",
            "11  2000     12  2000-12-01T00:00:00  Zambia     Western     197.707636\n",
            "     year  month                 date  region admin1_name  precipitation\n",
            "276  2023      1  2023-01-01T00:00:00  Zambia     Western     195.667499\n",
            "277  2023      2  2023-02-01T00:00:00  Zambia     Western      90.879418\n",
            "278  2023      3  2023-03-01T00:00:00  Zambia     Western      68.079372\n",
            "279  2023      4  2023-04-01T00:00:00  Zambia     Western      17.230138\n",
            "280  2023      5  2023-05-01T00:00:00  Zambia     Western       0.142144\n",
            "281  2023      6  2023-06-01T00:00:00  Zambia     Western       0.000000\n",
            "282  2023      7  2023-07-01T00:00:00  Zambia     Western       0.001715\n",
            "283  2023      8  2023-08-01T00:00:00  Zambia     Western       0.000000\n",
            "284  2023      9  2023-09-01T00:00:00  Zambia     Western       0.981972\n",
            "285  2023     10  2023-10-01T00:00:00  Zambia     Western      19.936960\n",
            "286  2023     11  2023-11-01T00:00:00  Zambia     Western      36.163365\n",
            "287  2023     12  2023-12-01T00:00:00  Zambia     Western     133.972012\n"
          ]
        }
      ]
    },
    {
      "cell_type": "code",
      "source": [
        "# Combine all three DataFrames into a single DataFrame\n",
        "combined_df = pd.concat([\n",
        "    central_precip_data,\n",
        "    copperbelt_precip_data,\n",
        "    luapula_precip_data,\n",
        "    lusaka_precip_data,\n",
        "    north_western_precip_data,\n",
        "    northern_precip_data,\n",
        "    southern_precip_data,\n",
        "    western_precip_data\n",
        "])\n",
        "\n",
        "'''\n",
        "TO DO: Export as CSV\n",
        "'''\n"
      ],
      "metadata": {
        "colab": {
          "base_uri": "https://localhost:8080/",
          "height": 36
        },
        "id": "oPFgyKEMEUHn",
        "outputId": "c29bdcb9-cc77-4421-e53d-831324d7955f"
      },
      "execution_count": 105,
      "outputs": [
        {
          "output_type": "display_data",
          "data": {
            "text/plain": [
              "<IPython.core.display.HTML object>"
            ],
            "text/html": [
              "\n",
              "            <style>\n",
              "                .geemap-dark {\n",
              "                    --jp-widgets-color: white;\n",
              "                    --jp-widgets-label-color: white;\n",
              "                    --jp-ui-font-color1: white;\n",
              "                    --jp-layout-color2: #454545;\n",
              "                    background-color: #383838;\n",
              "                }\n",
              "\n",
              "                .geemap-dark .jupyter-button {\n",
              "                    --jp-layout-color3: #383838;\n",
              "                }\n",
              "\n",
              "                .geemap-colab {\n",
              "                    background-color: var(--colab-primary-surface-color, white);\n",
              "                }\n",
              "\n",
              "                .geemap-colab .jupyter-button {\n",
              "                    --jp-layout-color3: var(--colab-primary-surface-color, white);\n",
              "                }\n",
              "            </style>\n",
              "            "
            ]
          },
          "metadata": {}
        },
        {
          "output_type": "execute_result",
          "data": {
            "text/plain": [
              "' \\nTO DO: Export as CSV\\n'"
            ],
            "application/vnd.google.colaboratory.intrinsic+json": {
              "type": "string"
            }
          },
          "metadata": {},
          "execution_count": 105
        }
      ]
    },
    {
      "cell_type": "markdown",
      "source": [
        "### Filtering for Rain Season\n",
        "\n",
        "In the analysis, we are only interested in examining rainfall seasons. In Zambia, this takes place between November and March. As a result, I will filter `combined_df`."
      ],
      "metadata": {
        "id": "gm_oyAlfJ0KT"
      }
    },
    {
      "cell_type": "code",
      "source": [
        "# Filter combined_df to include only months from November (11) to March (3)\n",
        "zambia_rain_df = combined_df[combined_df['month'].isin([11, 12, 1, 2, 3])]\n",
        "\n",
        "# Print the filtered combined DataFrame\n",
        "print(zambia_rain_df.head(12))\n",
        "print(zambia_rain_df.tail(12))\n"
      ],
      "metadata": {
        "colab": {
          "base_uri": "https://localhost:8080/",
          "height": 495
        },
        "id": "X_mzUwImGeiD",
        "outputId": "526ff7b2-b453-4f8c-88b4-61d8c2ccd7d1"
      },
      "execution_count": 106,
      "outputs": [
        {
          "output_type": "display_data",
          "data": {
            "text/plain": [
              "<IPython.core.display.HTML object>"
            ],
            "text/html": [
              "\n",
              "            <style>\n",
              "                .geemap-dark {\n",
              "                    --jp-widgets-color: white;\n",
              "                    --jp-widgets-label-color: white;\n",
              "                    --jp-ui-font-color1: white;\n",
              "                    --jp-layout-color2: #454545;\n",
              "                    background-color: #383838;\n",
              "                }\n",
              "\n",
              "                .geemap-dark .jupyter-button {\n",
              "                    --jp-layout-color3: #383838;\n",
              "                }\n",
              "\n",
              "                .geemap-colab {\n",
              "                    background-color: var(--colab-primary-surface-color, white);\n",
              "                }\n",
              "\n",
              "                .geemap-colab .jupyter-button {\n",
              "                    --jp-layout-color3: var(--colab-primary-surface-color, white);\n",
              "                }\n",
              "            </style>\n",
              "            "
            ]
          },
          "metadata": {}
        },
        {
          "output_type": "stream",
          "name": "stdout",
          "text": [
            "    year  month                 date  region admin1_name  precipitation\n",
            "0   2000      1  2000-01-01T00:00:00  Zambia     Central     240.545614\n",
            "1   2000      2  2000-02-01T00:00:00  Zambia     Central     255.378366\n",
            "2   2000      3  2000-03-01T00:00:00  Zambia     Central     232.452149\n",
            "10  2000     11  2000-11-01T00:00:00  Zambia     Central     119.177322\n",
            "11  2000     12  2000-12-01T00:00:00  Zambia     Central     223.681583\n",
            "12  2001      1  2001-01-01T00:00:00  Zambia     Central     263.590931\n",
            "13  2001      2  2001-02-01T00:00:00  Zambia     Central     330.130325\n",
            "14  2001      3  2001-03-01T00:00:00  Zambia     Central     216.453090\n",
            "22  2001     11  2001-11-01T00:00:00  Zambia     Central     122.278114\n",
            "23  2001     12  2001-12-01T00:00:00  Zambia     Central     198.752585\n",
            "24  2002      1  2002-01-01T00:00:00  Zambia     Central     170.267318\n",
            "25  2002      2  2002-02-01T00:00:00  Zambia     Central     102.782122\n",
            "     year  month                 date  region admin1_name  precipitation\n",
            "262  2021     11  2021-11-01T00:00:00  Zambia     Western      45.947236\n",
            "263  2021     12  2021-12-01T00:00:00  Zambia     Western     147.212857\n",
            "264  2022      1  2022-01-01T00:00:00  Zambia     Western     253.023160\n",
            "265  2022      2  2022-02-01T00:00:00  Zambia     Western     156.835418\n",
            "266  2022      3  2022-03-01T00:00:00  Zambia     Western     226.777158\n",
            "274  2022     11  2022-11-01T00:00:00  Zambia     Western     106.403168\n",
            "275  2022     12  2022-12-01T00:00:00  Zambia     Western     106.221197\n",
            "276  2023      1  2023-01-01T00:00:00  Zambia     Western     195.667499\n",
            "277  2023      2  2023-02-01T00:00:00  Zambia     Western      90.879418\n",
            "278  2023      3  2023-03-01T00:00:00  Zambia     Western      68.079372\n",
            "286  2023     11  2023-11-01T00:00:00  Zambia     Western      36.163365\n",
            "287  2023     12  2023-12-01T00:00:00  Zambia     Western     133.972012\n"
          ]
        }
      ]
    },
    {
      "cell_type": "markdown",
      "source": [
        "## Add in Description of SPI"
      ],
      "metadata": {
        "id": "b8vW1xnCOVOT"
      }
    },
    {
      "cell_type": "code",
      "source": [
        "# Checking if all precipitation values are positive in each dataset\n",
        "print(\"Zambia Rainy Season: All values positive? \", (zambia_rain_df['precipitation'] > 0).all())"
      ],
      "metadata": {
        "colab": {
          "base_uri": "https://localhost:8080/",
          "height": 35
        },
        "id": "PcXuoFXKGekE",
        "outputId": "58003c41-4513-427e-bd87-a2e22022e4b5"
      },
      "execution_count": 107,
      "outputs": [
        {
          "output_type": "display_data",
          "data": {
            "text/plain": [
              "<IPython.core.display.HTML object>"
            ],
            "text/html": [
              "\n",
              "            <style>\n",
              "                .geemap-dark {\n",
              "                    --jp-widgets-color: white;\n",
              "                    --jp-widgets-label-color: white;\n",
              "                    --jp-ui-font-color1: white;\n",
              "                    --jp-layout-color2: #454545;\n",
              "                    background-color: #383838;\n",
              "                }\n",
              "\n",
              "                .geemap-dark .jupyter-button {\n",
              "                    --jp-layout-color3: #383838;\n",
              "                }\n",
              "\n",
              "                .geemap-colab {\n",
              "                    background-color: var(--colab-primary-surface-color, white);\n",
              "                }\n",
              "\n",
              "                .geemap-colab .jupyter-button {\n",
              "                    --jp-layout-color3: var(--colab-primary-surface-color, white);\n",
              "                }\n",
              "            </style>\n",
              "            "
            ]
          },
          "metadata": {}
        },
        {
          "output_type": "stream",
          "name": "stdout",
          "text": [
            "Zambia Rainy Season: All values positive?  True\n"
          ]
        }
      ]
    },
    {
      "cell_type": "markdown",
      "source": [
        "### Histogram"
      ],
      "metadata": {
        "id": "dfiIZ240R-Hr"
      }
    },
    {
      "cell_type": "code",
      "source": [
        "# Get the list of unique Admin Level 1 regions (admin1_name) from the DataFrame\n",
        "regions = combined_df['admin1_name'].unique()\n",
        "\n",
        "# Set up the plot with one subplot per region (adjust rows and cols based on number of regions)\n",
        "fig, axes = plt.subplots(1, len(regions), figsize=(18, 5), sharey=True)\n",
        "\n",
        "# Loop through each region and plot the histogram\n",
        "for i, region in enumerate(regions):\n",
        "    # Filter the data for the current region\n",
        "    region_data = combined_df[combined_df['admin1_name'] == region]\n",
        "\n",
        "    # Plot histogram for the current region\n",
        "    axes[i].hist(region_data['precipitation'], bins=20, color='skyblue', edgecolor='black')\n",
        "    axes[i].set_title(f'{region} Rain Season')\n",
        "    axes[i].set_xlabel('Precipitation')\n",
        "\n",
        "    # Set ylabel only on the first plot\n",
        "    if i == 0:\n",
        "        axes[i].set_ylabel('Frequency')\n",
        "\n",
        "# Adjust layout to prevent overlapping\n",
        "plt.tight_layout()\n",
        "\n",
        "# Show the plots\n",
        "plt.show()"
      ],
      "metadata": {
        "colab": {
          "base_uri": "https://localhost:8080/",
          "height": 375
        },
        "id": "HHQAw4KTGemN",
        "outputId": "475716c2-d6ef-445a-b7f6-5720cc241ee9"
      },
      "execution_count": 108,
      "outputs": [
        {
          "output_type": "display_data",
          "data": {
            "text/plain": [
              "<IPython.core.display.HTML object>"
            ],
            "text/html": [
              "\n",
              "            <style>\n",
              "                .geemap-dark {\n",
              "                    --jp-widgets-color: white;\n",
              "                    --jp-widgets-label-color: white;\n",
              "                    --jp-ui-font-color1: white;\n",
              "                    --jp-layout-color2: #454545;\n",
              "                    background-color: #383838;\n",
              "                }\n",
              "\n",
              "                .geemap-dark .jupyter-button {\n",
              "                    --jp-layout-color3: #383838;\n",
              "                }\n",
              "\n",
              "                .geemap-colab {\n",
              "                    background-color: var(--colab-primary-surface-color, white);\n",
              "                }\n",
              "\n",
              "                .geemap-colab .jupyter-button {\n",
              "                    --jp-layout-color3: var(--colab-primary-surface-color, white);\n",
              "                }\n",
              "            </style>\n",
              "            "
            ]
          },
          "metadata": {}
        },
        {
          "output_type": "display_data",
          "data": {
            "text/plain": [
              "<Figure size 1800x500 with 8 Axes>"
            ],
            "image/png": "[encoded data removed]"
          },
          "metadata": {}
        }
      ]
    },
    {
      "cell_type": "code",
      "source": [
        "# Plot histogram for all of Zambia\n",
        "plt.figure(figsize=(8, 5))\n",
        "plt.hist(combined_df['precipitation'], bins=20, color='skyblue', edgecolor='black')\n",
        "plt.title('Zambia Rain Season Precipitation')\n",
        "plt.xlabel('Precipitation')\n",
        "plt.ylabel('Frequency')\n",
        "\n",
        "# Show the plot\n",
        "plt.tight_layout()\n",
        "plt.show()\n"
      ],
      "metadata": {
        "colab": {
          "base_uri": "https://localhost:8080/",
          "height": 507
        },
        "id": "Kpcsf85MWVQw",
        "outputId": "a46083b9-a388-42b1-faa7-9718c1974143"
      },
      "execution_count": 109,
      "outputs": [
        {
          "output_type": "display_data",
          "data": {
            "text/plain": [
              "<IPython.core.display.HTML object>"
            ],
            "text/html": [
              "\n",
              "            <style>\n",
              "                .geemap-dark {\n",
              "                    --jp-widgets-color: white;\n",
              "                    --jp-widgets-label-color: white;\n",
              "                    --jp-ui-font-color1: white;\n",
              "                    --jp-layout-color2: #454545;\n",
              "                    background-color: #383838;\n",
              "                }\n",
              "\n",
              "                .geemap-dark .jupyter-button {\n",
              "                    --jp-layout-color3: #383838;\n",
              "                }\n",
              "\n",
              "                .geemap-colab {\n",
              "                    background-color: var(--colab-primary-surface-color, white);\n",
              "                }\n",
              "\n",
              "                .geemap-colab .jupyter-button {\n",
              "                    --jp-layout-color3: var(--colab-primary-surface-color, white);\n",
              "                }\n",
              "            </style>\n",
              "            "
            ]
          },
          "metadata": {}
        },
        {
          "output_type": "display_data",
          "data": {
            "text/plain": [
              "<Figure size 800x500 with 1 Axes>"
            ],
            "image/png": "[encoded data removed]"
          },
          "metadata": {}
        }
      ]
    }
  ]
}